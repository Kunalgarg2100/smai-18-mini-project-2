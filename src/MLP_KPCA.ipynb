{
 "cells": [
  {
   "cell_type": "code",
   "execution_count": 1,
   "metadata": {},
   "outputs": [],
   "source": [
    "import os\n",
    "import cv2\n",
    "import pickle\n",
    "import numpy as np\n",
    "import pandas as pd\n",
    "import pdb\n",
    "import requests\n",
    "import matplotlib.pyplot as plt\n",
    "from collections import defaultdict\n",
    "import random \n",
    "import time\n",
    "\n",
    "from sklearn.decomposition import PCA\n",
    "from sklearn.discriminant_analysis import LinearDiscriminantAnalysis\n",
    "from sklearn.decomposition import KernelPCA\n",
    "from sklearn.linear_model import LogisticRegression\n",
    "from sklearn.preprocessing import MinMaxScaler\n",
    "from sklearn import tree\n",
    "from sklearn import svm\n",
    "from sklearn.neural_network import MLPClassifier\n",
    "from sklearn.model_selection import GridSearchCV\n",
    "from sklearn.metrics import f1_score, accuracy_score\n",
    "from sklearn.model_selection import train_test_split\n",
    "from tqdm import *\n",
    "\n",
    "from functools import wraps\n",
    "from time import time as _timenow \n",
    "from sys import stderr"
   ]
  },
  {
   "cell_type": "markdown",
   "metadata": {},
   "source": [
    "## Load CIFAR-10 Data"
   ]
  },
  {
   "cell_type": "code",
   "execution_count": 2,
   "metadata": {},
   "outputs": [],
   "source": [
    "def load_cifar():\n",
    "    \n",
    "    trn_data, trn_labels, tst_data, tst_labels = [], [], [], []\n",
    "    def unpickle(file):\n",
    "        with open(file, 'rb') as fo:\n",
    "            data = pickle.load(fo, encoding='latin1')\n",
    "        return data\n",
    "    \n",
    "    for i in trange(1):\n",
    "        batchName = './data/data_batch_{0}'.format(i + 1)\n",
    "        unpickled = unpickle(batchName)\n",
    "        trn_data.extend(unpickled['data'])\n",
    "        trn_labels.extend(unpickled['labels'])\n",
    "    unpickled = unpickle('./data/test_batch')\n",
    "    tst_data.extend(unpickled['data'])\n",
    "    tst_labels.extend(unpickled['labels'])\n",
    "    return trn_data, trn_labels, tst_data, tst_labels\n"
   ]
  },
  {
   "cell_type": "markdown",
   "metadata": {},
   "source": [
    "## Image preprocessing"
   ]
  },
  {
   "cell_type": "code",
   "execution_count": 3,
   "metadata": {},
   "outputs": [],
   "source": [
    "def image_prep(image):\n",
    "    processed_image = image\n",
    "#     m = np.mean(image, axis=0)\n",
    "#     sd = np.std(image, axis=0)\n",
    "#     processed_image = image - m\n",
    "#     processed_image = processed_image/sd\n",
    "    ''' pre-processes the given image\n",
    "        performs mean normalization and other such operations'''\n",
    "    return processed_image"
   ]
  },
  {
   "cell_type": "markdown",
   "metadata": {},
   "source": [
    "## Dimensionality reduction using PCA"
   ]
  },
  {
   "cell_type": "code",
   "execution_count": 4,
   "metadata": {},
   "outputs": [],
   "source": [
    "def reduce_dim(**kwargs):\n",
    "    dim = kwargs['dim']\n",
    "    train_X = kwargs['train_X']\n",
    "    train_y = kwargs['train_y']\n",
    "    ''' performs dimensionality reduction'''\n",
    "    if kwargs['method'] == 'pca':\n",
    "        pca = PCA(n_components=dim)\n",
    "        pca.fit(train_X)\n",
    "        X_reduced = pca.transform(train_X)\n",
    "        return pca, X_reduced\n",
    "    \n",
    "    if kwargs['method'] == 'lda':\n",
    "        lda = LinearDiscriminantAnalysis(n_components=dim)\n",
    "        lda.fit(train_X,train_y)\n",
    "        X_reduced = lda.transform(train_X)\n",
    "        return lda, X_reduced        \n",
    "    \n",
    "    if kwargs['method'] == 'kpca':\n",
    "        kpca = KernelPCA(n_components=dim, kernel='rbf',n_jobs = -1)\n",
    "        X_reduced = kpca.fit_transform(train_X)\n",
    "        return kpca, X_reduced"
   ]
  },
  {
   "cell_type": "markdown",
   "metadata": {},
   "source": [
    "## Classification using kernel SVM"
   ]
  },
  {
   "cell_type": "code",
   "execution_count": 5,
   "metadata": {},
   "outputs": [],
   "source": [
    "def classify(X, y, **kwargs):\n",
    "    ''' trains a classifier by taking input features\n",
    "        and their respective targets and returns the trained model'''\n",
    "    if kwargs['method'] == 'Logistic Regression':\n",
    "        clf = LogisticRegression(solver='lbfgs',multi_class='multinomial')\n",
    "        clf = clf.fit(X, y)\n",
    "        return clf\n",
    "    if kwargs['method'] == 'Decision Tree':\n",
    "        clf = tree.DecisionTreeClassifier()\n",
    "        clf = clf.fit(X, y)\n",
    "        return clf\n",
    "    if kwargs['method'] == 'MLP':\n",
    "        clf = MLPClassifier()\n",
    "        clf = clf.fit(X, y)\n",
    "        return clf"
   ]
  },
  {
   "cell_type": "markdown",
   "metadata": {},
   "source": [
    "## Evaluation "
   ]
  },
  {
   "cell_type": "code",
   "execution_count": 6,
   "metadata": {},
   "outputs": [],
   "source": [
    "def evaluate(target, predicted):\n",
    "    f1 = f1_score(target, predicted, average='micro')\n",
    "    acc = accuracy_score(target, predicted)\n",
    "    return f1, acc"
   ]
  },
  {
   "cell_type": "code",
   "execution_count": 7,
   "metadata": {},
   "outputs": [],
   "source": [
    "def test(**kwargs):\n",
    "    classifer_model = kwargs['classifer_model']\n",
    "    test_X = kwargs['test_X']\n",
    "    test_y = kwargs['test_y']\n",
    "    predicted_y = classifer_model.predict(test_X)\n",
    "    f1, acc = evaluate(test_y, predicted=predicted_y)\n",
    "    print(f1)\n",
    "    print(acc)\n",
    "    return f1, acc"
   ]
  },
  {
   "cell_type": "code",
   "execution_count": 8,
   "metadata": {},
   "outputs": [],
   "source": [
    "dec_PCA_acc = []\n",
    "dec_PCA_f1 = []\n",
    "def main1():\n",
    "    trn_data, trn_labels, tst_data, tst_labels = load_cifar()\n",
    "    trn_data, tst_data = list(map(image_prep, trn_data)), list(map(image_prep, tst_data))\n",
    "    X_train, X_val, y_train, y_val = train_test_split(trn_data, trn_labels,test_size = 0.20)\n",
    "    scaling = MinMaxScaler(feature_range=(-1,1)).fit(X_train)\n",
    "    X_train = scaling.transform(X_train)\n",
    "    X_val = scaling.transform(X_val)\n",
    "\n",
    "    dims=[1,2,4,8,16,32,64,128,256,512,1024]\n",
    "    for dim in dims:\n",
    "        print(dim)\n",
    "        reduced_model, X_reduced = reduce_dim(method='kpca',dim=dim,train_X = X_train,train_y = y_train)\n",
    "        classifer_model = classify(X_reduced, y_train, method='MLP')\n",
    "        test_X_reduced = reduced_model.transform(X_val)\n",
    "        f1, acc = test(classifer_model=classifer_model,test_X = test_X_reduced, test_y = y_val)\n",
    "        dec_PCA_acc.append(acc)\n",
    "        dec_PCA_f1.append(f1)\n",
    "    \n",
    "    ''' perform dimesioality reduction/feature extraction and classify the features into one of 10 classses\n",
    "        print accuracy and f1-score.\n",
    "        '''\n",
    "#     print('Val - F1 score: {}\\n Accuracy: {}'.format(f_score, accuracy_))\n"
   ]
  },
  {
   "cell_type": "code",
   "execution_count": 9,
   "metadata": {},
   "outputs": [
    {
     "name": "stderr",
     "output_type": "stream",
     "text": [
      "100%|██████████| 1/1 [00:00<00:00,  2.83it/s]\n"
     ]
    },
    {
     "name": "stdout",
     "output_type": "stream",
     "text": [
      "1\n",
      "0.167\n",
      "0.167\n",
      "2\n",
      "0.22400000000000003\n",
      "0.224\n",
      "4\n"
     ]
    },
    {
     "name": "stderr",
     "output_type": "stream",
     "text": [
      "/home/kgarg/smai-18-mini-project-2/mypython/lib/python3.5/site-packages/sklearn/neural_network/multilayer_perceptron.py:562: ConvergenceWarning: Stochastic Optimizer: Maximum iterations (200) reached and the optimization hasn't converged yet.\n",
      "  % self.max_iter, ConvergenceWarning)\n"
     ]
    },
    {
     "name": "stdout",
     "output_type": "stream",
     "text": [
      "0.285\n",
      "0.285\n",
      "8\n"
     ]
    },
    {
     "name": "stderr",
     "output_type": "stream",
     "text": [
      "/home/kgarg/smai-18-mini-project-2/mypython/lib/python3.5/site-packages/sklearn/neural_network/multilayer_perceptron.py:562: ConvergenceWarning: Stochastic Optimizer: Maximum iterations (200) reached and the optimization hasn't converged yet.\n",
      "  % self.max_iter, ConvergenceWarning)\n"
     ]
    },
    {
     "name": "stdout",
     "output_type": "stream",
     "text": [
      "0.3605\n",
      "0.3605\n",
      "16\n"
     ]
    },
    {
     "name": "stderr",
     "output_type": "stream",
     "text": [
      "/home/kgarg/smai-18-mini-project-2/mypython/lib/python3.5/site-packages/sklearn/neural_network/multilayer_perceptron.py:562: ConvergenceWarning: Stochastic Optimizer: Maximum iterations (200) reached and the optimization hasn't converged yet.\n",
      "  % self.max_iter, ConvergenceWarning)\n"
     ]
    },
    {
     "name": "stdout",
     "output_type": "stream",
     "text": [
      "0.4035\n",
      "0.4035\n",
      "32\n"
     ]
    },
    {
     "name": "stderr",
     "output_type": "stream",
     "text": [
      "/home/kgarg/smai-18-mini-project-2/mypython/lib/python3.5/site-packages/sklearn/neural_network/multilayer_perceptron.py:562: ConvergenceWarning: Stochastic Optimizer: Maximum iterations (200) reached and the optimization hasn't converged yet.\n",
      "  % self.max_iter, ConvergenceWarning)\n"
     ]
    },
    {
     "name": "stdout",
     "output_type": "stream",
     "text": [
      "0.4485\n",
      "0.4485\n",
      "64\n"
     ]
    },
    {
     "name": "stderr",
     "output_type": "stream",
     "text": [
      "/home/kgarg/smai-18-mini-project-2/mypython/lib/python3.5/site-packages/sklearn/neural_network/multilayer_perceptron.py:562: ConvergenceWarning: Stochastic Optimizer: Maximum iterations (200) reached and the optimization hasn't converged yet.\n",
      "  % self.max_iter, ConvergenceWarning)\n"
     ]
    },
    {
     "name": "stdout",
     "output_type": "stream",
     "text": [
      "0.454\n",
      "0.454\n",
      "128\n"
     ]
    },
    {
     "name": "stderr",
     "output_type": "stream",
     "text": [
      "/home/kgarg/smai-18-mini-project-2/mypython/lib/python3.5/site-packages/sklearn/neural_network/multilayer_perceptron.py:562: ConvergenceWarning: Stochastic Optimizer: Maximum iterations (200) reached and the optimization hasn't converged yet.\n",
      "  % self.max_iter, ConvergenceWarning)\n"
     ]
    },
    {
     "name": "stdout",
     "output_type": "stream",
     "text": [
      "0.458\n",
      "0.458\n",
      "256\n"
     ]
    },
    {
     "name": "stderr",
     "output_type": "stream",
     "text": [
      "/home/kgarg/smai-18-mini-project-2/mypython/lib/python3.5/site-packages/sklearn/neural_network/multilayer_perceptron.py:562: ConvergenceWarning: Stochastic Optimizer: Maximum iterations (200) reached and the optimization hasn't converged yet.\n",
      "  % self.max_iter, ConvergenceWarning)\n"
     ]
    },
    {
     "name": "stdout",
     "output_type": "stream",
     "text": [
      "0.451\n",
      "0.451\n",
      "512\n"
     ]
    },
    {
     "name": "stderr",
     "output_type": "stream",
     "text": [
      "/home/kgarg/smai-18-mini-project-2/mypython/lib/python3.5/site-packages/sklearn/neural_network/multilayer_perceptron.py:562: ConvergenceWarning: Stochastic Optimizer: Maximum iterations (200) reached and the optimization hasn't converged yet.\n",
      "  % self.max_iter, ConvergenceWarning)\n"
     ]
    },
    {
     "name": "stdout",
     "output_type": "stream",
     "text": [
      "0.43799999999999994\n",
      "0.438\n",
      "1024\n"
     ]
    },
    {
     "name": "stderr",
     "output_type": "stream",
     "text": [
      "/home/kgarg/smai-18-mini-project-2/mypython/lib/python3.5/site-packages/sklearn/neural_network/multilayer_perceptron.py:562: ConvergenceWarning: Stochastic Optimizer: Maximum iterations (200) reached and the optimization hasn't converged yet.\n",
      "  % self.max_iter, ConvergenceWarning)\n"
     ]
    },
    {
     "name": "stdout",
     "output_type": "stream",
     "text": [
      "0.4195\n",
      "0.4195\n"
     ]
    }
   ],
   "source": [
    "if __name__ == '__main__':\n",
    "    main1()"
   ]
  },
  {
   "cell_type": "code",
   "execution_count": 10,
   "metadata": {},
   "outputs": [
    {
     "data": {
      "image/png": "[encoded data removed]",
      "text/plain": [
       "<Figure size 432x288 with 1 Axes>"
      ]
     },
     "metadata": {
      "needs_background": "light"
     },
     "output_type": "display_data"
    }
   ],
   "source": [
    "dims=[1,2,4,8,16,32,64,128,256, 512,1024]\n",
    "for i in range(1,len(dec_PCA_acc)):\n",
    "#     print(i)\n",
    "    dec_PCA_f1[i] = round(dec_PCA_f1[i], 3)\n",
    "#     print(i)\n",
    "fig = plt.figure()\n",
    "ax = fig.add_subplot(111)\n",
    "plt.plot(dims,dec_PCA_acc,'r')\n",
    "plt.xlabel('Dimensions Used')\n",
    "plt.ylabel('Accuracy')\n",
    "plt.title('Accuracy vs Dimensions(KPCA) for MLP')\n",
    "for xy in zip(dims, dec_PCA_acc):\n",
    "    ax.annotate('(%s, %s)' % xy, xy=xy, textcoords='data')\n",
    "plt.savefig('finalMLP_KPCA_accuracy_1.svg',format='svg')"
   ]
  },
  {
   "cell_type": "code",
   "execution_count": 12,
   "metadata": {},
   "outputs": [
    {
     "name": "stdout",
     "output_type": "stream",
     "text": [
      "[1, 2, 4, 8, 16, 32, 64, 128, 256, 512, 1024]\n"
     ]
    },
    {
     "data": {
      "text/html": [
       "<div>\n",
       "<style scoped>\n",
       "    .dataframe tbody tr th:only-of-type {\n",
       "        vertical-align: middle;\n",
       "    }\n",
       "\n",
       "    .dataframe tbody tr th {\n",
       "        vertical-align: top;\n",
       "    }\n",
       "\n",
       "    .dataframe thead th {\n",
       "        text-align: right;\n",
       "    }\n",
       "</style>\n",
       "<table border=\"1\" class=\"dataframe\">\n",
       "  <thead>\n",
       "    <tr style=\"text-align: right;\">\n",
       "      <th></th>\n",
       "      <th>Dimensions</th>\n",
       "      <th>Accuracy</th>\n",
       "    </tr>\n",
       "  </thead>\n",
       "  <tbody>\n",
       "    <tr>\n",
       "      <th>1</th>\n",
       "      <td>1</td>\n",
       "      <td>0.1670</td>\n",
       "    </tr>\n",
       "    <tr>\n",
       "      <th>2</th>\n",
       "      <td>2</td>\n",
       "      <td>0.2240</td>\n",
       "    </tr>\n",
       "    <tr>\n",
       "      <th>3</th>\n",
       "      <td>4</td>\n",
       "      <td>0.2850</td>\n",
       "    </tr>\n",
       "    <tr>\n",
       "      <th>4</th>\n",
       "      <td>8</td>\n",
       "      <td>0.3605</td>\n",
       "    </tr>\n",
       "    <tr>\n",
       "      <th>5</th>\n",
       "      <td>16</td>\n",
       "      <td>0.4035</td>\n",
       "    </tr>\n",
       "    <tr>\n",
       "      <th>6</th>\n",
       "      <td>32</td>\n",
       "      <td>0.4485</td>\n",
       "    </tr>\n",
       "    <tr>\n",
       "      <th>7</th>\n",
       "      <td>64</td>\n",
       "      <td>0.4540</td>\n",
       "    </tr>\n",
       "    <tr>\n",
       "      <th>8</th>\n",
       "      <td>128</td>\n",
       "      <td>0.4580</td>\n",
       "    </tr>\n",
       "    <tr>\n",
       "      <th>9</th>\n",
       "      <td>256</td>\n",
       "      <td>0.4510</td>\n",
       "    </tr>\n",
       "    <tr>\n",
       "      <th>10</th>\n",
       "      <td>512</td>\n",
       "      <td>0.4380</td>\n",
       "    </tr>\n",
       "    <tr>\n",
       "      <th>11</th>\n",
       "      <td>1024</td>\n",
       "      <td>0.4195</td>\n",
       "    </tr>\n",
       "  </tbody>\n",
       "</table>\n",
       "</div>"
      ],
      "text/plain": [
       "    Dimensions  Accuracy\n",
       "1            1    0.1670\n",
       "2            2    0.2240\n",
       "3            4    0.2850\n",
       "4            8    0.3605\n",
       "5           16    0.4035\n",
       "6           32    0.4485\n",
       "7           64    0.4540\n",
       "8          128    0.4580\n",
       "9          256    0.4510\n",
       "10         512    0.4380\n",
       "11        1024    0.4195"
      ]
     },
     "execution_count": 12,
     "metadata": {},
     "output_type": "execute_result"
    }
   ],
   "source": [
    "print(dims)\n",
    "data = {'Dimensions' : dims,\n",
    "        'Accuracy':dec_PCA_acc,\n",
    "#         'Score':svm_PCA_f1\n",
    "       }\n",
    "p = pd.DataFrame(data)\n",
    "columnsTitles=[\"Dimensions\",\"Accuracy\"]\n",
    "p = p.reindex(columns=columnsTitles)\n",
    "p.index = range(1,12)\n",
    "# print(p)\n",
    "# print(svm_PCA_f1)\n",
    "p"
   ]
  },
  {
   "cell_type": "code",
   "execution_count": 7,
   "metadata": {},
   "outputs": [],
   "source": [
    "def sethyperparam(X, y, **kwargs):\n",
    "     if kwargs['method'] == 'MLP':\n",
    "            max_iter = kwargs['max_iter']\n",
    "            learning_rate = kwargs['learning_rate']\n",
    "            hidden_layer_sizes = kwargs['hidden_layer_sizes']\n",
    "            solver = kwargs['solver']\n",
    "            clf = MLPClassifier(solver=solver,learning_rate=learning_rate, max_iter=max_iter, hidden_layer_sizes=hidden_layer_sizes)\n",
    "            clf = clf.fit(X, y)\n",
    "            return clf"
   ]
  },
  {
   "cell_type": "code",
   "execution_count": 9,
   "metadata": {},
   "outputs": [
    {
     "name": "stderr",
     "output_type": "stream",
     "text": [
      "100%|██████████| 1/1 [00:00<00:00, 17.33it/s]\n"
     ]
    }
   ],
   "source": [
    "trn_data, trn_labels, tst_data, tst_labels = load_cifar()\n",
    "trn_data, tst_data = list(map(image_prep, trn_data)), list(map(image_prep, tst_data))\n",
    "X_train, X_val, y_train, y_val = train_test_split(trn_data, trn_labels,test_size = 0.20)\n",
    "scaling = MinMaxScaler(feature_range=(-1,1)).fit(X_train)\n",
    "X_train = scaling.transform(X_train)\n",
    "X_val = scaling.transform(X_val)\n",
    "tst_data = scaling.transform(tst_data)\n",
    " \n",
    "reduced_model, X_reduced = reduce_dim(method='kpca',dim=70,train_X = X_train,train_y = y_train)\n",
    "test_X_reduced = reduced_model.transform(X_val)\n",
    "reducedtestdata = reduced_model.transform(tst_data)"
   ]
  },
  {
   "cell_type": "code",
   "execution_count": 13,
   "metadata": {
    "scrolled": false
   },
   "outputs": [
    {
     "name": "stdout",
     "output_type": "stream",
     "text": [
      "lbfgs constant 200 (100, 20)\n",
      "0.4175\n",
      "0.4175\n",
      "0.48775\n",
      "0.48775\n",
      "lbfgs constant 200 (100, 50)\n",
      "0.4455\n",
      "0.4455\n",
      "0.50375\n",
      "0.50375\n",
      "lbfgs constant 200 (100, 50, 10)\n",
      "0.3935\n",
      "0.3935\n",
      "0.44525\n",
      "0.44525\n",
      "lbfgs constant 500 (100, 20)\n",
      "0.4105\n",
      "0.4105\n",
      "0.617625\n",
      "0.617625\n",
      "lbfgs constant 500 (100, 50)\n",
      "0.418\n",
      "0.418\n",
      "0.709875\n",
      "0.709875\n",
      "lbfgs constant 500 (100, 50, 10)\n",
      "0.4165\n",
      "0.4165\n",
      "0.574\n",
      "0.574\n",
      "lbfgs adaptive 200 (100, 20)\n",
      "0.41850000000000004\n",
      "0.4185\n",
      "0.470875\n",
      "0.470875\n",
      "lbfgs adaptive 200 (100, 50)\n",
      "0.4295\n",
      "0.4295\n",
      "0.507\n",
      "0.507\n",
      "lbfgs adaptive 200 (100, 50, 10)\n",
      "0.3945000000000001\n",
      "0.3945\n",
      "0.465125\n",
      "0.465125\n",
      "lbfgs adaptive 500 (100, 20)\n",
      "0.418\n",
      "0.418\n",
      "0.607375\n",
      "0.607375\n",
      "lbfgs adaptive 500 (100, 50)\n",
      "0.4245\n",
      "0.4245\n",
      "0.62725\n",
      "0.62725\n",
      "lbfgs adaptive 500 (100, 50, 10)\n",
      "0.3995\n",
      "0.3995\n",
      "0.54\n",
      "0.54\n",
      "adam constant 200 (100, 20)\n"
     ]
    },
    {
     "name": "stderr",
     "output_type": "stream",
     "text": [
      "/home/kgarg/smai-18-mini-project-2/mypython/lib/python3.5/site-packages/sklearn/neural_network/multilayer_perceptron.py:562: ConvergenceWarning: Stochastic Optimizer: Maximum iterations (200) reached and the optimization hasn't converged yet.\n",
      "  % self.max_iter, ConvergenceWarning)\n"
     ]
    },
    {
     "name": "stdout",
     "output_type": "stream",
     "text": [
      "0.453\n",
      "0.453\n",
      "0.6585\n",
      "0.6585\n",
      "adam constant 200 (100, 50)\n"
     ]
    },
    {
     "name": "stderr",
     "output_type": "stream",
     "text": [
      "/home/kgarg/smai-18-mini-project-2/mypython/lib/python3.5/site-packages/sklearn/neural_network/multilayer_perceptron.py:562: ConvergenceWarning: Stochastic Optimizer: Maximum iterations (200) reached and the optimization hasn't converged yet.\n",
      "  % self.max_iter, ConvergenceWarning)\n"
     ]
    },
    {
     "name": "stdout",
     "output_type": "stream",
     "text": [
      "0.4505\n",
      "0.4505\n",
      "0.745\n",
      "0.745\n",
      "adam constant 200 (100, 50, 10)\n"
     ]
    },
    {
     "name": "stderr",
     "output_type": "stream",
     "text": [
      "/home/kgarg/smai-18-mini-project-2/mypython/lib/python3.5/site-packages/sklearn/neural_network/multilayer_perceptron.py:562: ConvergenceWarning: Stochastic Optimizer: Maximum iterations (200) reached and the optimization hasn't converged yet.\n",
      "  % self.max_iter, ConvergenceWarning)\n"
     ]
    },
    {
     "name": "stdout",
     "output_type": "stream",
     "text": [
      "0.415\n",
      "0.415\n",
      "0.73225\n",
      "0.73225\n",
      "adam constant 500 (100, 20)\n"
     ]
    },
    {
     "name": "stderr",
     "output_type": "stream",
     "text": [
      "/home/kgarg/smai-18-mini-project-2/mypython/lib/python3.5/site-packages/sklearn/neural_network/multilayer_perceptron.py:562: ConvergenceWarning: Stochastic Optimizer: Maximum iterations (500) reached and the optimization hasn't converged yet.\n",
      "  % self.max_iter, ConvergenceWarning)\n"
     ]
    },
    {
     "name": "stdout",
     "output_type": "stream",
     "text": [
      "0.42999999999999994\n",
      "0.43\n",
      "0.812125\n",
      "0.812125\n",
      "adam constant 500 (100, 50)\n"
     ]
    },
    {
     "name": "stderr",
     "output_type": "stream",
     "text": [
      "/home/kgarg/smai-18-mini-project-2/mypython/lib/python3.5/site-packages/sklearn/neural_network/multilayer_perceptron.py:562: ConvergenceWarning: Stochastic Optimizer: Maximum iterations (500) reached and the optimization hasn't converged yet.\n",
      "  % self.max_iter, ConvergenceWarning)\n"
     ]
    },
    {
     "name": "stdout",
     "output_type": "stream",
     "text": [
      "0.404\n",
      "0.404\n",
      "0.88675\n",
      "0.88675\n",
      "adam constant 500 (100, 50, 10)\n"
     ]
    },
    {
     "name": "stderr",
     "output_type": "stream",
     "text": [
      "/home/kgarg/smai-18-mini-project-2/mypython/lib/python3.5/site-packages/sklearn/neural_network/multilayer_perceptron.py:562: ConvergenceWarning: Stochastic Optimizer: Maximum iterations (500) reached and the optimization hasn't converged yet.\n",
      "  % self.max_iter, ConvergenceWarning)\n"
     ]
    },
    {
     "name": "stdout",
     "output_type": "stream",
     "text": [
      "0.391\n",
      "0.391\n",
      "0.8325\n",
      "0.8325\n",
      "adam adaptive 200 (100, 20)\n"
     ]
    },
    {
     "name": "stderr",
     "output_type": "stream",
     "text": [
      "/home/kgarg/smai-18-mini-project-2/mypython/lib/python3.5/site-packages/sklearn/neural_network/multilayer_perceptron.py:562: ConvergenceWarning: Stochastic Optimizer: Maximum iterations (200) reached and the optimization hasn't converged yet.\n",
      "  % self.max_iter, ConvergenceWarning)\n"
     ]
    },
    {
     "name": "stdout",
     "output_type": "stream",
     "text": [
      "0.4435\n",
      "0.4435\n",
      "0.665875\n",
      "0.665875\n",
      "adam adaptive 200 (100, 50)\n"
     ]
    },
    {
     "name": "stderr",
     "output_type": "stream",
     "text": [
      "/home/kgarg/smai-18-mini-project-2/mypython/lib/python3.5/site-packages/sklearn/neural_network/multilayer_perceptron.py:562: ConvergenceWarning: Stochastic Optimizer: Maximum iterations (200) reached and the optimization hasn't converged yet.\n",
      "  % self.max_iter, ConvergenceWarning)\n"
     ]
    },
    {
     "name": "stdout",
     "output_type": "stream",
     "text": [
      "0.4415\n",
      "0.4415\n",
      "0.7295\n",
      "0.7295\n",
      "adam adaptive 200 (100, 50, 10)\n"
     ]
    },
    {
     "name": "stderr",
     "output_type": "stream",
     "text": [
      "/home/kgarg/smai-18-mini-project-2/mypython/lib/python3.5/site-packages/sklearn/neural_network/multilayer_perceptron.py:562: ConvergenceWarning: Stochastic Optimizer: Maximum iterations (200) reached and the optimization hasn't converged yet.\n",
      "  % self.max_iter, ConvergenceWarning)\n"
     ]
    },
    {
     "name": "stdout",
     "output_type": "stream",
     "text": [
      "0.4075\n",
      "0.4075\n",
      "0.685375\n",
      "0.685375\n",
      "adam adaptive 500 (100, 20)\n"
     ]
    },
    {
     "name": "stderr",
     "output_type": "stream",
     "text": [
      "/home/kgarg/smai-18-mini-project-2/mypython/lib/python3.5/site-packages/sklearn/neural_network/multilayer_perceptron.py:562: ConvergenceWarning: Stochastic Optimizer: Maximum iterations (500) reached and the optimization hasn't converged yet.\n",
      "  % self.max_iter, ConvergenceWarning)\n"
     ]
    },
    {
     "name": "stdout",
     "output_type": "stream",
     "text": [
      "0.4195\n",
      "0.4195\n",
      "0.7835000000000001\n",
      "0.7835\n",
      "adam adaptive 500 (100, 50)\n"
     ]
    },
    {
     "name": "stderr",
     "output_type": "stream",
     "text": [
      "/home/kgarg/smai-18-mini-project-2/mypython/lib/python3.5/site-packages/sklearn/neural_network/multilayer_perceptron.py:562: ConvergenceWarning: Stochastic Optimizer: Maximum iterations (500) reached and the optimization hasn't converged yet.\n",
      "  % self.max_iter, ConvergenceWarning)\n"
     ]
    },
    {
     "name": "stdout",
     "output_type": "stream",
     "text": [
      "0.404\n",
      "0.404\n",
      "0.876125\n",
      "0.876125\n",
      "adam adaptive 500 (100, 50, 10)\n"
     ]
    },
    {
     "name": "stderr",
     "output_type": "stream",
     "text": [
      "/home/kgarg/smai-18-mini-project-2/mypython/lib/python3.5/site-packages/sklearn/neural_network/multilayer_perceptron.py:562: ConvergenceWarning: Stochastic Optimizer: Maximum iterations (500) reached and the optimization hasn't converged yet.\n",
      "  % self.max_iter, ConvergenceWarning)\n"
     ]
    },
    {
     "name": "stdout",
     "output_type": "stream",
     "text": [
      "0.388\n",
      "0.388\n",
      "0.88975\n",
      "0.88975\n"
     ]
    }
   ],
   "source": [
    "max_iter_range = [200,500]\n",
    "learning_rate_range= ['constant', 'adaptive']\n",
    "hidden_layer_sizes_range = [(100,20),(100,50),(100,50,10)]\n",
    "solver_range = ['lbfgs', 'adam']\n",
    "svm_PCA_acc1 = []\n",
    "svm_PCA_f11 = []\n",
    "def main2():\n",
    "    for solver in solver_range:\n",
    "        for learning_rate in learning_rate_range:\n",
    "            for max_iter in max_iter_range:\n",
    "                for hidden_layer_sizes in hidden_layer_sizes_range:\n",
    "                    print(solver,learning_rate,max_iter,hidden_layer_sizes)\n",
    "                    classifer_model = sethyperparam(X_reduced, y_train, method='MLP', solver=solver,learning_rate=learning_rate, max_iter=max_iter, hidden_layer_sizes=hidden_layer_sizes)\n",
    "                    testf1, testacc = test(classifer_model=classifer_model,test_X = test_X_reduced, test_y = y_val)\n",
    "                    trainf1, trainacc = test(classifer_model=classifer_model,test_X = X_reduced, test_y = y_train)\n",
    "                    svm_PCA_acc1.append(testacc)\n",
    "                    svm_PCA_f11.append(trainacc)\n",
    "main2()"
   ]
  },
  {
   "cell_type": "code",
   "execution_count": 14,
   "metadata": {},
   "outputs": [],
   "source": [
    "temp_sol = []\n",
    "temp_learningrate = []\n",
    "temp_maxitr = []\n",
    "temp_hiddenlayer = []\n",
    "\n",
    "for solver in solver_range:\n",
    "        for learning_rate in learning_rate_range:\n",
    "            for max_iter in max_iter_range:\n",
    "                for hidden_layer_sizes in hidden_layer_sizes_range:\n",
    "                    temp_sol.append(solver)\n",
    "                    temp_learningrate.append(learning_rate)\n",
    "                    temp_maxitr.append(max_iter)\n",
    "                    temp_hiddenlayer.append(hidden_layer_sizes)"
   ]
  },
  {
   "cell_type": "code",
   "execution_count": 15,
   "metadata": {},
   "outputs": [
    {
     "name": "stdout",
     "output_type": "stream",
     "text": [
      "['lbfgs', 'lbfgs', 'lbfgs', 'lbfgs', 'lbfgs', 'lbfgs', 'lbfgs', 'lbfgs', 'lbfgs', 'lbfgs', 'lbfgs', 'lbfgs', 'adam', 'adam', 'adam', 'adam', 'adam', 'adam', 'adam', 'adam', 'adam', 'adam', 'adam', 'adam']\n",
      "['constant', 'constant', 'constant', 'constant', 'constant', 'constant', 'adaptive', 'adaptive', 'adaptive', 'adaptive', 'adaptive', 'adaptive', 'constant', 'constant', 'constant', 'constant', 'constant', 'constant', 'adaptive', 'adaptive', 'adaptive', 'adaptive', 'adaptive', 'adaptive']\n",
      "[200, 200, 200, 500, 500, 500, 200, 200, 200, 500, 500, 500, 200, 200, 200, 500, 500, 500, 200, 200, 200, 500, 500, 500]\n",
      "[(100, 20), (100, 50), (100, 50, 10), (100, 20), (100, 50), (100, 50, 10), (100, 20), (100, 50), (100, 50, 10), (100, 20), (100, 50), (100, 50, 10), (100, 20), (100, 50), (100, 50, 10), (100, 20), (100, 50), (100, 50, 10), (100, 20), (100, 50), (100, 50, 10), (100, 20), (100, 50), (100, 50, 10)]\n"
     ]
    }
   ],
   "source": [
    "print(temp_sol)\n",
    "print(temp_learningrate)\n",
    "print(temp_maxitr)\n",
    "print(temp_hiddenlayer)"
   ]
  },
  {
   "cell_type": "code",
   "execution_count": 16,
   "metadata": {},
   "outputs": [
    {
     "data": {
      "text/html": [
       "<div>\n",
       "<style scoped>\n",
       "    .dataframe tbody tr th:only-of-type {\n",
       "        vertical-align: middle;\n",
       "    }\n",
       "\n",
       "    .dataframe tbody tr th {\n",
       "        vertical-align: top;\n",
       "    }\n",
       "\n",
       "    .dataframe thead th {\n",
       "        text-align: right;\n",
       "    }\n",
       "</style>\n",
       "<table border=\"1\" class=\"dataframe\">\n",
       "  <thead>\n",
       "    <tr style=\"text-align: right;\">\n",
       "      <th></th>\n",
       "      <th>Solver</th>\n",
       "      <th>Learning Rate</th>\n",
       "      <th>Max iterations</th>\n",
       "      <th>Hidden Layers</th>\n",
       "      <th>Test Accuracy</th>\n",
       "      <th>Train Accuracy</th>\n",
       "    </tr>\n",
       "  </thead>\n",
       "  <tbody>\n",
       "    <tr>\n",
       "      <th>1</th>\n",
       "      <td>lbfgs</td>\n",
       "      <td>constant</td>\n",
       "      <td>200</td>\n",
       "      <td>(100, 20)</td>\n",
       "      <td>0.4175</td>\n",
       "      <td>0.487750</td>\n",
       "    </tr>\n",
       "    <tr>\n",
       "      <th>2</th>\n",
       "      <td>lbfgs</td>\n",
       "      <td>constant</td>\n",
       "      <td>200</td>\n",
       "      <td>(100, 50)</td>\n",
       "      <td>0.4455</td>\n",
       "      <td>0.503750</td>\n",
       "    </tr>\n",
       "    <tr>\n",
       "      <th>3</th>\n",
       "      <td>lbfgs</td>\n",
       "      <td>constant</td>\n",
       "      <td>200</td>\n",
       "      <td>(100, 50, 10)</td>\n",
       "      <td>0.3935</td>\n",
       "      <td>0.445250</td>\n",
       "    </tr>\n",
       "    <tr>\n",
       "      <th>4</th>\n",
       "      <td>lbfgs</td>\n",
       "      <td>constant</td>\n",
       "      <td>500</td>\n",
       "      <td>(100, 20)</td>\n",
       "      <td>0.4105</td>\n",
       "      <td>0.617625</td>\n",
       "    </tr>\n",
       "    <tr>\n",
       "      <th>5</th>\n",
       "      <td>lbfgs</td>\n",
       "      <td>constant</td>\n",
       "      <td>500</td>\n",
       "      <td>(100, 50)</td>\n",
       "      <td>0.4180</td>\n",
       "      <td>0.709875</td>\n",
       "    </tr>\n",
       "    <tr>\n",
       "      <th>6</th>\n",
       "      <td>lbfgs</td>\n",
       "      <td>constant</td>\n",
       "      <td>500</td>\n",
       "      <td>(100, 50, 10)</td>\n",
       "      <td>0.4165</td>\n",
       "      <td>0.574000</td>\n",
       "    </tr>\n",
       "    <tr>\n",
       "      <th>7</th>\n",
       "      <td>lbfgs</td>\n",
       "      <td>adaptive</td>\n",
       "      <td>200</td>\n",
       "      <td>(100, 20)</td>\n",
       "      <td>0.4185</td>\n",
       "      <td>0.470875</td>\n",
       "    </tr>\n",
       "    <tr>\n",
       "      <th>8</th>\n",
       "      <td>lbfgs</td>\n",
       "      <td>adaptive</td>\n",
       "      <td>200</td>\n",
       "      <td>(100, 50)</td>\n",
       "      <td>0.4295</td>\n",
       "      <td>0.507000</td>\n",
       "    </tr>\n",
       "    <tr>\n",
       "      <th>9</th>\n",
       "      <td>lbfgs</td>\n",
       "      <td>adaptive</td>\n",
       "      <td>200</td>\n",
       "      <td>(100, 50, 10)</td>\n",
       "      <td>0.3945</td>\n",
       "      <td>0.465125</td>\n",
       "    </tr>\n",
       "    <tr>\n",
       "      <th>10</th>\n",
       "      <td>lbfgs</td>\n",
       "      <td>adaptive</td>\n",
       "      <td>500</td>\n",
       "      <td>(100, 20)</td>\n",
       "      <td>0.4180</td>\n",
       "      <td>0.607375</td>\n",
       "    </tr>\n",
       "    <tr>\n",
       "      <th>11</th>\n",
       "      <td>lbfgs</td>\n",
       "      <td>adaptive</td>\n",
       "      <td>500</td>\n",
       "      <td>(100, 50)</td>\n",
       "      <td>0.4245</td>\n",
       "      <td>0.627250</td>\n",
       "    </tr>\n",
       "    <tr>\n",
       "      <th>12</th>\n",
       "      <td>lbfgs</td>\n",
       "      <td>adaptive</td>\n",
       "      <td>500</td>\n",
       "      <td>(100, 50, 10)</td>\n",
       "      <td>0.3995</td>\n",
       "      <td>0.540000</td>\n",
       "    </tr>\n",
       "    <tr>\n",
       "      <th>13</th>\n",
       "      <td>adam</td>\n",
       "      <td>constant</td>\n",
       "      <td>200</td>\n",
       "      <td>(100, 20)</td>\n",
       "      <td>0.4530</td>\n",
       "      <td>0.658500</td>\n",
       "    </tr>\n",
       "    <tr>\n",
       "      <th>14</th>\n",
       "      <td>adam</td>\n",
       "      <td>constant</td>\n",
       "      <td>200</td>\n",
       "      <td>(100, 50)</td>\n",
       "      <td>0.4505</td>\n",
       "      <td>0.745000</td>\n",
       "    </tr>\n",
       "    <tr>\n",
       "      <th>15</th>\n",
       "      <td>adam</td>\n",
       "      <td>constant</td>\n",
       "      <td>200</td>\n",
       "      <td>(100, 50, 10)</td>\n",
       "      <td>0.4150</td>\n",
       "      <td>0.732250</td>\n",
       "    </tr>\n",
       "    <tr>\n",
       "      <th>16</th>\n",
       "      <td>adam</td>\n",
       "      <td>constant</td>\n",
       "      <td>500</td>\n",
       "      <td>(100, 20)</td>\n",
       "      <td>0.4300</td>\n",
       "      <td>0.812125</td>\n",
       "    </tr>\n",
       "    <tr>\n",
       "      <th>17</th>\n",
       "      <td>adam</td>\n",
       "      <td>constant</td>\n",
       "      <td>500</td>\n",
       "      <td>(100, 50)</td>\n",
       "      <td>0.4040</td>\n",
       "      <td>0.886750</td>\n",
       "    </tr>\n",
       "    <tr>\n",
       "      <th>18</th>\n",
       "      <td>adam</td>\n",
       "      <td>constant</td>\n",
       "      <td>500</td>\n",
       "      <td>(100, 50, 10)</td>\n",
       "      <td>0.3910</td>\n",
       "      <td>0.832500</td>\n",
       "    </tr>\n",
       "    <tr>\n",
       "      <th>19</th>\n",
       "      <td>adam</td>\n",
       "      <td>adaptive</td>\n",
       "      <td>200</td>\n",
       "      <td>(100, 20)</td>\n",
       "      <td>0.4435</td>\n",
       "      <td>0.665875</td>\n",
       "    </tr>\n",
       "    <tr>\n",
       "      <th>20</th>\n",
       "      <td>adam</td>\n",
       "      <td>adaptive</td>\n",
       "      <td>200</td>\n",
       "      <td>(100, 50)</td>\n",
       "      <td>0.4415</td>\n",
       "      <td>0.729500</td>\n",
       "    </tr>\n",
       "    <tr>\n",
       "      <th>21</th>\n",
       "      <td>adam</td>\n",
       "      <td>adaptive</td>\n",
       "      <td>200</td>\n",
       "      <td>(100, 50, 10)</td>\n",
       "      <td>0.4075</td>\n",
       "      <td>0.685375</td>\n",
       "    </tr>\n",
       "    <tr>\n",
       "      <th>22</th>\n",
       "      <td>adam</td>\n",
       "      <td>adaptive</td>\n",
       "      <td>500</td>\n",
       "      <td>(100, 20)</td>\n",
       "      <td>0.4195</td>\n",
       "      <td>0.783500</td>\n",
       "    </tr>\n",
       "    <tr>\n",
       "      <th>23</th>\n",
       "      <td>adam</td>\n",
       "      <td>adaptive</td>\n",
       "      <td>500</td>\n",
       "      <td>(100, 50)</td>\n",
       "      <td>0.4040</td>\n",
       "      <td>0.876125</td>\n",
       "    </tr>\n",
       "    <tr>\n",
       "      <th>24</th>\n",
       "      <td>adam</td>\n",
       "      <td>adaptive</td>\n",
       "      <td>500</td>\n",
       "      <td>(100, 50, 10)</td>\n",
       "      <td>0.3880</td>\n",
       "      <td>0.889750</td>\n",
       "    </tr>\n",
       "  </tbody>\n",
       "</table>\n",
       "</div>"
      ],
      "text/plain": [
       "   Solver Learning Rate  Max iterations  Hidden Layers  Test Accuracy  \\\n",
       "1   lbfgs      constant             200      (100, 20)         0.4175   \n",
       "2   lbfgs      constant             200      (100, 50)         0.4455   \n",
       "3   lbfgs      constant             200  (100, 50, 10)         0.3935   \n",
       "4   lbfgs      constant             500      (100, 20)         0.4105   \n",
       "5   lbfgs      constant             500      (100, 50)         0.4180   \n",
       "6   lbfgs      constant             500  (100, 50, 10)         0.4165   \n",
       "7   lbfgs      adaptive             200      (100, 20)         0.4185   \n",
       "8   lbfgs      adaptive             200      (100, 50)         0.4295   \n",
       "9   lbfgs      adaptive             200  (100, 50, 10)         0.3945   \n",
       "10  lbfgs      adaptive             500      (100, 20)         0.4180   \n",
       "11  lbfgs      adaptive             500      (100, 50)         0.4245   \n",
       "12  lbfgs      adaptive             500  (100, 50, 10)         0.3995   \n",
       "13   adam      constant             200      (100, 20)         0.4530   \n",
       "14   adam      constant             200      (100, 50)         0.4505   \n",
       "15   adam      constant             200  (100, 50, 10)         0.4150   \n",
       "16   adam      constant             500      (100, 20)         0.4300   \n",
       "17   adam      constant             500      (100, 50)         0.4040   \n",
       "18   adam      constant             500  (100, 50, 10)         0.3910   \n",
       "19   adam      adaptive             200      (100, 20)         0.4435   \n",
       "20   adam      adaptive             200      (100, 50)         0.4415   \n",
       "21   adam      adaptive             200  (100, 50, 10)         0.4075   \n",
       "22   adam      adaptive             500      (100, 20)         0.4195   \n",
       "23   adam      adaptive             500      (100, 50)         0.4040   \n",
       "24   adam      adaptive             500  (100, 50, 10)         0.3880   \n",
       "\n",
       "    Train Accuracy  \n",
       "1         0.487750  \n",
       "2         0.503750  \n",
       "3         0.445250  \n",
       "4         0.617625  \n",
       "5         0.709875  \n",
       "6         0.574000  \n",
       "7         0.470875  \n",
       "8         0.507000  \n",
       "9         0.465125  \n",
       "10        0.607375  \n",
       "11        0.627250  \n",
       "12        0.540000  \n",
       "13        0.658500  \n",
       "14        0.745000  \n",
       "15        0.732250  \n",
       "16        0.812125  \n",
       "17        0.886750  \n",
       "18        0.832500  \n",
       "19        0.665875  \n",
       "20        0.729500  \n",
       "21        0.685375  \n",
       "22        0.783500  \n",
       "23        0.876125  \n",
       "24        0.889750  "
      ]
     },
     "execution_count": 16,
     "metadata": {},
     "output_type": "execute_result"
    }
   ],
   "source": [
    "data1 = {'Solver' : temp_sol,\n",
    "         'Learning Rate' : temp_learningrate,\n",
    "         'Max iterations': temp_maxitr,\n",
    "         'Hidden Layers' : temp_hiddenlayer,\n",
    "         'Test Accuracy' : svm_PCA_acc1,\n",
    "         'Train Accuracy' : svm_PCA_f11\n",
    "#         'Score':svm_PCA_f1\n",
    "       }\n",
    "p1 = pd.DataFrame(data1)\n",
    "columnsTitles=[\"Solver\",\"Learning Rate\", \"Max iterations\",\"Hidden Layers\", \"Test Accuracy\", \"Train Accuracy\"]\n",
    "p1 = p1.reindex(columns=columnsTitles)\n",
    "p1.index = range(1,25)\n",
    "p1"
   ]
  },
  {
   "cell_type": "code",
   "execution_count": 17,
   "metadata": {},
   "outputs": [
    {
     "name": "stderr",
     "output_type": "stream",
     "text": [
      "/home/kgarg/smai-18-mini-project-2/mypython/lib/python3.5/site-packages/sklearn/neural_network/multilayer_perceptron.py:562: ConvergenceWarning: Stochastic Optimizer: Maximum iterations (200) reached and the optimization hasn't converged yet.\n",
      "  % self.max_iter, ConvergenceWarning)\n"
     ]
    },
    {
     "name": "stdout",
     "output_type": "stream",
     "text": [
      "0.435\n",
      "0.435\n",
      "0.4512\n",
      "0.4512\n"
     ]
    },
    {
     "data": {
      "text/plain": [
       "(0.4512, 0.4512)"
      ]
     },
     "execution_count": 17,
     "metadata": {},
     "output_type": "execute_result"
    }
   ],
   "source": [
    "classifer_model = sethyperparam(X_reduced, y_train, method='MLP', solver=\"adam\",learning_rate=\"constant\", max_iter=200, hidden_layer_sizes=(100,20))\n",
    "testf1, testacc = test(classifer_model=classifer_model,test_X = test_X_reduced, test_y = y_val)\n",
    "test(classifer_model=classifer_model,test_X = reducedtestdata, test_y = tst_labels)"
   ]
  },
  {
   "cell_type": "code",
   "execution_count": null,
   "metadata": {},
   "outputs": [],
   "source": []
  }
 ],
 "metadata": {
  "kernelspec": {
   "display_name": "Python 3",
   "language": "python",
   "name": "python3"
  },
  "language_info": {
   "codemirror_mode": {
    "name": "ipython",
    "version": 3
   },
   "file_extension": ".py",
   "mimetype": "text/x-python",
   "name": "python",
   "nbconvert_exporter": "python",
   "pygments_lexer": "ipython3",
   "version": "3.5.2"
  }
 },
 "nbformat": 4,
 "nbformat_minor": 2
}
