{
 "cells": [
  {
   "cell_type": "code",
   "execution_count": 1,
   "metadata": {},
   "outputs": [],
   "source": [
    "import os\n",
    "import cv2\n",
    "import pickle\n",
    "import numpy as np\n",
    "import pandas as pd\n",
    "import pdb\n",
    "import requests\n",
    "import matplotlib.pyplot as plt\n",
    "from collections import defaultdict\n",
    "import random \n",
    "import time\n",
    "\n",
    "from sklearn.decomposition import PCA\n",
    "from sklearn.discriminant_analysis import LinearDiscriminantAnalysis\n",
    "from sklearn.decomposition import KernelPCA\n",
    "from sklearn.linear_model import LogisticRegression\n",
    "from sklearn.preprocessing import MinMaxScaler\n",
    "from sklearn import tree\n",
    "from sklearn import svm\n",
    "from sklearn.model_selection import GridSearchCV\n",
    "from sklearn.metrics import f1_score, accuracy_score\n",
    "from sklearn.model_selection import train_test_split\n",
    "from tqdm import *\n",
    "\n",
    "from functools import wraps\n",
    "from time import time as _timenow \n",
    "from sys import stderr"
   ]
  },
  {
   "cell_type": "markdown",
   "metadata": {},
   "source": [
    "## Load CIFAR-10 Data"
   ]
  },
  {
   "cell_type": "code",
   "execution_count": 2,
   "metadata": {},
   "outputs": [],
   "source": [
    "def load_cifar():\n",
    "    \n",
    "    trn_data, trn_labels, tst_data, tst_labels = [], [], [], []\n",
    "    def unpickle(file):\n",
    "        with open(file, 'rb') as fo:\n",
    "            data = pickle.load(fo, encoding='latin1')\n",
    "        return data\n",
    "    \n",
    "    for i in trange(1):\n",
    "        batchName = './data/data_batch_{0}'.format(i + 1)\n",
    "        unpickled = unpickle(batchName)\n",
    "        trn_data.extend(unpickled['data'])\n",
    "        trn_labels.extend(unpickled['labels'])\n",
    "    unpickled = unpickle('./data/test_batch')\n",
    "    tst_data.extend(unpickled['data'])\n",
    "    tst_labels.extend(unpickled['labels'])\n",
    "    return trn_data, trn_labels, tst_data, tst_labels\n"
   ]
  },
  {
   "cell_type": "markdown",
   "metadata": {},
   "source": [
    "## Image preprocessing"
   ]
  },
  {
   "cell_type": "code",
   "execution_count": 3,
   "metadata": {},
   "outputs": [],
   "source": [
    "def image_prep(image):\n",
    "    processed_image = image\n",
    "#     m = np.mean(image, axis=0)\n",
    "#     sd = np.std(image, axis=0)\n",
    "#     processed_image = image - m\n",
    "#     processed_image = processed_image/sd\n",
    "    ''' pre-processes the given image\n",
    "        performs mean normalization and other such operations'''\n",
    "    return processed_image"
   ]
  },
  {
   "cell_type": "markdown",
   "metadata": {},
   "source": [
    "## Dimensionality reduction using PCA"
   ]
  },
  {
   "cell_type": "code",
   "execution_count": 4,
   "metadata": {},
   "outputs": [],
   "source": [
    "def reduce_dim(**kwargs):\n",
    "    dim = kwargs['dim']\n",
    "    train_X = kwargs['train_X']\n",
    "    train_y = kwargs['train_y']\n",
    "    ''' performs dimensionality reduction'''\n",
    "    if kwargs['method'] == 'pca':\n",
    "        pca = PCA(n_components=dim)\n",
    "        pca.fit(train_X)\n",
    "        X_reduced = pca.transform(train_X)\n",
    "        return pca, X_reduced\n",
    "    \n",
    "    if kwargs['method'] == 'lda':\n",
    "        lda = LinearDiscriminantAnalysis(n_components=dim)\n",
    "        lda.fit(train_X,train_y)\n",
    "        X_reduced = lda.transform(train_X)\n",
    "        return lda, X_reduced        \n",
    "    \n",
    "    if kwargs['method'] == 'kpca':\n",
    "        kpca = KernelPCA(n_components=dim, kernel='rbf',n_jobs = -1)\n",
    "        X_reduced = kpca.fit_transform(train_X)\n",
    "        return kpca, X_reduced"
   ]
  },
  {
   "cell_type": "markdown",
   "metadata": {},
   "source": [
    "## Classification using kernel SVM"
   ]
  },
  {
   "cell_type": "code",
   "execution_count": 5,
   "metadata": {},
   "outputs": [],
   "source": [
    "def classify(X, y, **kwargs):\n",
    "    ''' trains a classifier by taking input features\n",
    "        and their respective targets and returns the trained model'''\n",
    "    if kwargs['method'] == 'Logistic Regression':\n",
    "        clf = LogisticRegression(solver='lbfgs',multi_class='multinomial')\n",
    "        clf = clf.fit(X, y)\n",
    "        return clf\n",
    "    if kwargs['method'] == 'Decision Tree':\n",
    "        clf = tree.DecisionTreeClassifier()\n",
    "        clf = clf.fit(X, y)\n",
    "        return clf"
   ]
  },
  {
   "cell_type": "markdown",
   "metadata": {},
   "source": [
    "## Evaluation "
   ]
  },
  {
   "cell_type": "code",
   "execution_count": 6,
   "metadata": {},
   "outputs": [],
   "source": [
    "def evaluate(target, predicted):\n",
    "    f1 = f1_score(target, predicted, average='micro')\n",
    "    acc = accuracy_score(target, predicted)\n",
    "    return f1, acc"
   ]
  },
  {
   "cell_type": "code",
   "execution_count": 7,
   "metadata": {},
   "outputs": [],
   "source": [
    "def test(**kwargs):\n",
    "    classifer_model = kwargs['classifer_model']\n",
    "    test_X = kwargs['test_X']\n",
    "    test_y = kwargs['test_y']\n",
    "    predicted_y = classifer_model.predict(test_X)\n",
    "    f1, acc = evaluate(test_y, predicted=predicted_y)\n",
    "    print(f1)\n",
    "    print(acc)\n",
    "    return f1, acc"
   ]
  },
  {
   "cell_type": "code",
   "execution_count": 8,
   "metadata": {},
   "outputs": [],
   "source": [
    "dec_PCA_acc = []\n",
    "dec_PCA_f1 = []\n",
    "def main1():\n",
    "    trn_data, trn_labels, tst_data, tst_labels = load_cifar()\n",
    "    trn_data, tst_data = list(map(image_prep, trn_data)), list(map(image_prep, tst_data))\n",
    "    X_train, X_val, y_train, y_val = train_test_split(trn_data, trn_labels,test_size = 0.20)\n",
    "    scaling = MinMaxScaler(feature_range=(-1,1)).fit(X_train)\n",
    "    X_train = scaling.transform(X_train)\n",
    "    X_val = scaling.transform(X_val)\n",
    "    \n",
    "    dims=[1,2,4,8,16,32,64,128,256,512,1024]\n",
    "    for dim in dims:\n",
    "        print(dim)\n",
    "        reduced_model, X_reduced = reduce_dim(method='kpca',dim=dim,train_X = X_train,train_y = y_train)\n",
    "        classifer_model = classify(X_reduced, y_train, method='Logistic Regression')\n",
    "        test_X_reduced = reduced_model.transform(X_val)\n",
    "        f1, acc = test(classifer_model=classifer_model,test_X = test_X_reduced, test_y = y_val)\n",
    "        dec_PCA_acc.append(acc)\n",
    "        dec_PCA_f1.append(f1)"
   ]
  },
  {
   "cell_type": "code",
   "execution_count": 9,
   "metadata": {},
   "outputs": [
    {
     "name": "stderr",
     "output_type": "stream",
     "text": [
      "100%|██████████| 1/1 [00:00<00:00, 13.47it/s]\n"
     ]
    },
    {
     "name": "stdout",
     "output_type": "stream",
     "text": [
      "1\n",
      "0.161\n",
      "0.161\n",
      "2\n",
      "0.2125\n",
      "0.2125\n",
      "4\n",
      "0.2455\n",
      "0.2455\n",
      "8\n",
      "0.288\n",
      "0.288\n",
      "16\n",
      "0.339\n",
      "0.339\n",
      "32\n",
      "0.3605\n",
      "0.3605\n",
      "64\n"
     ]
    },
    {
     "name": "stderr",
     "output_type": "stream",
     "text": [
      "/home/kgarg/smai-18-mini-project-2/mypython/lib/python3.5/site-packages/sklearn/linear_model/logistic.py:757: ConvergenceWarning: lbfgs failed to converge. Increase the number of iterations.\n",
      "  \"of iterations.\", ConvergenceWarning)\n"
     ]
    },
    {
     "name": "stdout",
     "output_type": "stream",
     "text": [
      "0.37099999999999994\n",
      "0.371\n",
      "128\n"
     ]
    },
    {
     "name": "stderr",
     "output_type": "stream",
     "text": [
      "/home/kgarg/smai-18-mini-project-2/mypython/lib/python3.5/site-packages/sklearn/linear_model/logistic.py:757: ConvergenceWarning: lbfgs failed to converge. Increase the number of iterations.\n",
      "  \"of iterations.\", ConvergenceWarning)\n"
     ]
    },
    {
     "name": "stdout",
     "output_type": "stream",
     "text": [
      "0.3995\n",
      "0.3995\n",
      "256\n"
     ]
    },
    {
     "name": "stderr",
     "output_type": "stream",
     "text": [
      "/home/kgarg/smai-18-mini-project-2/mypython/lib/python3.5/site-packages/sklearn/linear_model/logistic.py:757: ConvergenceWarning: lbfgs failed to converge. Increase the number of iterations.\n",
      "  \"of iterations.\", ConvergenceWarning)\n"
     ]
    },
    {
     "name": "stdout",
     "output_type": "stream",
     "text": [
      "0.41\n",
      "0.41\n",
      "512\n"
     ]
    },
    {
     "name": "stderr",
     "output_type": "stream",
     "text": [
      "/home/kgarg/smai-18-mini-project-2/mypython/lib/python3.5/site-packages/sklearn/linear_model/logistic.py:757: ConvergenceWarning: lbfgs failed to converge. Increase the number of iterations.\n",
      "  \"of iterations.\", ConvergenceWarning)\n"
     ]
    },
    {
     "name": "stdout",
     "output_type": "stream",
     "text": [
      "0.41850000000000004\n",
      "0.4185\n",
      "1024\n"
     ]
    },
    {
     "name": "stderr",
     "output_type": "stream",
     "text": [
      "/home/kgarg/smai-18-mini-project-2/mypython/lib/python3.5/site-packages/sklearn/linear_model/logistic.py:757: ConvergenceWarning: lbfgs failed to converge. Increase the number of iterations.\n",
      "  \"of iterations.\", ConvergenceWarning)\n"
     ]
    },
    {
     "name": "stdout",
     "output_type": "stream",
     "text": [
      "0.4215\n",
      "0.4215\n"
     ]
    }
   ],
   "source": [
    "if __name__ == '__main__':\n",
    "    main1()"
   ]
  },
  {
   "cell_type": "code",
   "execution_count": 10,
   "metadata": {},
   "outputs": [
    {
     "data": {
      "image/png": "[encoded data removed]",
      "text/plain": [
       "<Figure size 432x288 with 1 Axes>"
      ]
     },
     "metadata": {
      "needs_background": "light"
     },
     "output_type": "display_data"
    }
   ],
   "source": [
    "dims=[1,2,4,8,16,32,64,128,256, 512,1024]\n",
    "for i in range(1,len(dec_PCA_acc)):\n",
    "#     print(i)\n",
    "    dec_PCA_f1[i] = round(dec_PCA_f1[i], 3)\n",
    "#     print(i)\n",
    "fig = plt.figure()\n",
    "ax = fig.add_subplot(111)\n",
    "plt.plot(dims,dec_PCA_acc,'r')\n",
    "plt.xlabel('Dimensions Used')\n",
    "plt.ylabel('Accuracy')\n",
    "plt.title('Accuracy vs Dimensions(KPCA) for Logistic Regression')\n",
    "for xy in zip(dims, dec_PCA_acc):\n",
    "    ax.annotate('(%s, %s)' % xy, xy=xy, textcoords='data')\n",
    "plt.savefig('finallogisticreg_KPCA_accuracy_1.svg',format='svg')"
   ]
  },
  {
   "cell_type": "code",
   "execution_count": 11,
   "metadata": {},
   "outputs": [
    {
     "name": "stdout",
     "output_type": "stream",
     "text": [
      "[1, 2, 4, 8, 16, 32, 64, 128, 256, 512, 1024]\n"
     ]
    },
    {
     "data": {
      "text/html": [
       "<div>\n",
       "<style scoped>\n",
       "    .dataframe tbody tr th:only-of-type {\n",
       "        vertical-align: middle;\n",
       "    }\n",
       "\n",
       "    .dataframe tbody tr th {\n",
       "        vertical-align: top;\n",
       "    }\n",
       "\n",
       "    .dataframe thead th {\n",
       "        text-align: right;\n",
       "    }\n",
       "</style>\n",
       "<table border=\"1\" class=\"dataframe\">\n",
       "  <thead>\n",
       "    <tr style=\"text-align: right;\">\n",
       "      <th></th>\n",
       "      <th>Dimensions</th>\n",
       "      <th>Accuracy</th>\n",
       "    </tr>\n",
       "  </thead>\n",
       "  <tbody>\n",
       "    <tr>\n",
       "      <th>1</th>\n",
       "      <td>1</td>\n",
       "      <td>0.1610</td>\n",
       "    </tr>\n",
       "    <tr>\n",
       "      <th>2</th>\n",
       "      <td>2</td>\n",
       "      <td>0.2125</td>\n",
       "    </tr>\n",
       "    <tr>\n",
       "      <th>3</th>\n",
       "      <td>4</td>\n",
       "      <td>0.2455</td>\n",
       "    </tr>\n",
       "    <tr>\n",
       "      <th>4</th>\n",
       "      <td>8</td>\n",
       "      <td>0.2880</td>\n",
       "    </tr>\n",
       "    <tr>\n",
       "      <th>5</th>\n",
       "      <td>16</td>\n",
       "      <td>0.3390</td>\n",
       "    </tr>\n",
       "    <tr>\n",
       "      <th>6</th>\n",
       "      <td>32</td>\n",
       "      <td>0.3605</td>\n",
       "    </tr>\n",
       "    <tr>\n",
       "      <th>7</th>\n",
       "      <td>64</td>\n",
       "      <td>0.3710</td>\n",
       "    </tr>\n",
       "    <tr>\n",
       "      <th>8</th>\n",
       "      <td>128</td>\n",
       "      <td>0.3995</td>\n",
       "    </tr>\n",
       "    <tr>\n",
       "      <th>9</th>\n",
       "      <td>256</td>\n",
       "      <td>0.4100</td>\n",
       "    </tr>\n",
       "    <tr>\n",
       "      <th>10</th>\n",
       "      <td>512</td>\n",
       "      <td>0.4185</td>\n",
       "    </tr>\n",
       "    <tr>\n",
       "      <th>11</th>\n",
       "      <td>1024</td>\n",
       "      <td>0.4215</td>\n",
       "    </tr>\n",
       "  </tbody>\n",
       "</table>\n",
       "</div>"
      ],
      "text/plain": [
       "    Dimensions  Accuracy\n",
       "1            1    0.1610\n",
       "2            2    0.2125\n",
       "3            4    0.2455\n",
       "4            8    0.2880\n",
       "5           16    0.3390\n",
       "6           32    0.3605\n",
       "7           64    0.3710\n",
       "8          128    0.3995\n",
       "9          256    0.4100\n",
       "10         512    0.4185\n",
       "11        1024    0.4215"
      ]
     },
     "execution_count": 11,
     "metadata": {},
     "output_type": "execute_result"
    }
   ],
   "source": [
    "print(dims)\n",
    "data = {'Dimensions' : dims,\n",
    "        'Accuracy':dec_PCA_acc,\n",
    "#         'Score':svm_PCA_f1\n",
    "       }\n",
    "p = pd.DataFrame(data)\n",
    "columnsTitles=[\"Dimensions\",\"Accuracy\"]\n",
    "p = p.reindex(columns=columnsTitles)\n",
    "p.index = range(1,12)\n",
    "# print(p)\n",
    "# print(svm_PCA_f1)\n",
    "p"
   ]
  },
  {
   "cell_type": "code",
   "execution_count": 12,
   "metadata": {},
   "outputs": [],
   "source": [
    "def sethyperparam(X, y, **kwargs):\n",
    "     if kwargs['method'] == 'Logistic Regression':\n",
    "            max_iter = kwargs['max_iter']\n",
    "            penalty = kwargs['penalty']\n",
    "            dual = kwargs['dual']\n",
    "            solver = kwargs['solver']\n",
    "            clf = LogisticRegression(solver=solver,multi_class='auto',penalty=penalty, dual=dual, max_iter=max_iter)\n",
    "            clf = clf.fit(X, y)\n",
    "            return clf"
   ]
  },
  {
   "cell_type": "code",
   "execution_count": 13,
   "metadata": {},
   "outputs": [
    {
     "name": "stderr",
     "output_type": "stream",
     "text": [
      "100%|██████████| 1/1 [00:00<00:00, 18.99it/s]\n"
     ]
    }
   ],
   "source": [
    "trn_data, trn_labels, tst_data, tst_labels = load_cifar()\n",
    "trn_data, tst_data = list(map(image_prep, trn_data)), list(map(image_prep, tst_data))\n",
    "X_train, X_val, y_train, y_val = train_test_split(trn_data, trn_labels,test_size = 0.20)\n",
    "scaling = MinMaxScaler(feature_range=(-1,1)).fit(X_train)\n",
    "X_train = scaling.transform(X_train)\n",
    "X_val = scaling.transform(X_val)\n",
    "tst_data = scaling.transform(tst_data)\n",
    " \n",
    "reduced_model, X_reduced = reduce_dim(method='kpca',dim=256,train_X = X_train,train_y = y_train)\n",
    "test_X_reduced = reduced_model.transform(X_val)\n",
    "reducedtestdata = reduced_model.transform(tst_data)"
   ]
  },
  {
   "cell_type": "code",
   "execution_count": 21,
   "metadata": {
    "scrolled": true
   },
   "outputs": [
    {
     "name": "stdout",
     "output_type": "stream",
     "text": [
      "l1 0.5 200\n",
      "0.4285\n",
      "0.4285\n",
      "0.440625\n",
      "0.440625\n",
      "l1 0.5 500\n",
      "0.4285\n",
      "0.4285\n",
      "0.440625\n",
      "0.440625\n",
      "l1 1 200\n",
      "0.4285\n",
      "0.4285\n",
      "0.440625\n",
      "0.440625\n",
      "l1 1 500\n",
      "0.4285\n",
      "0.4285\n",
      "0.44075\n",
      "0.44075\n",
      "l1 2.5 200\n",
      "0.4285\n",
      "0.4285\n",
      "0.440625\n",
      "0.440625\n",
      "l1 2.5 500\n",
      "0.4285\n",
      "0.4285\n",
      "0.440625\n",
      "0.440625\n",
      "liblinear l2 0.5 200\n",
      "0.4195\n",
      "0.4195\n",
      "0.44575\n",
      "0.44575\n",
      "liblinear l2 0.5 500\n",
      "0.4195\n",
      "0.4195\n",
      "0.44575\n",
      "0.44575\n",
      "liblinear l2 1 200\n",
      "0.4195\n",
      "0.4195\n",
      "0.44575\n",
      "0.44575\n",
      "liblinear l2 1 500\n",
      "0.4195\n",
      "0.4195\n",
      "0.44575\n",
      "0.44575\n",
      "liblinear l2 2.5 200\n",
      "0.4195\n",
      "0.4195\n",
      "0.44575\n",
      "0.44575\n",
      "liblinear l2 2.5 500\n",
      "0.4195\n",
      "0.4195\n",
      "0.44575\n",
      "0.44575\n",
      "lbfgs l2 0.5 200\n",
      "0.424\n",
      "0.424\n",
      "0.451125\n",
      "0.451125\n",
      "lbfgs l2 0.5 500\n",
      "0.424\n",
      "0.424\n",
      "0.451125\n",
      "0.451125\n",
      "lbfgs l2 1 200\n",
      "0.424\n",
      "0.424\n",
      "0.451125\n",
      "0.451125\n",
      "lbfgs l2 1 500\n",
      "0.424\n",
      "0.424\n",
      "0.451125\n",
      "0.451125\n",
      "lbfgs l2 2.5 200\n",
      "0.424\n",
      "0.424\n",
      "0.451125\n",
      "0.451125\n",
      "lbfgs l2 2.5 500\n",
      "0.424\n",
      "0.424\n",
      "0.451125\n",
      "0.451125\n"
     ]
    }
   ],
   "source": [
    "C_range = [0.5, 1, 2.5]\n",
    "max_iter_range = [200,500]\n",
    "penalty_range = ['l1','l2']\n",
    "svm_PCA_acc1 = []\n",
    "svm_PCA_f11 = []\n",
    "def main2():\n",
    "    \n",
    "    for penalty in penalty_range:\n",
    "        if penalty == 'l2':\n",
    "            for c in C_range:\n",
    "                for max_iter in max_iter_range:\n",
    "                    print('liblinear',penalty, c, max_iter)\n",
    "                    classifer_model =  sethyperparam(X_reduced, y_train, method='Logistic Regression', solver='liblinear',penalty='l2', dual=False, max_iter=max_iter)\n",
    "                    testf1, testacc = test(classifer_model=classifer_model,test_X = test_X_reduced, test_y = y_val)\n",
    "                    trainf1, trainacc = test(classifer_model=classifer_model,test_X = X_reduced, test_y = y_train)\n",
    "                    svm_PCA_acc1.append(testacc)\n",
    "                    svm_PCA_f11.append(trainacc)\n",
    "                    \n",
    "        if penalty == 'l2':\n",
    "            for c in C_range:\n",
    "                for max_iter in max_iter_range:\n",
    "                    print('lbfgs',penalty, c, max_iter)\n",
    "                    classifer_model = sethyperparam(X_reduced, y_train, method='Logistic Regression', solver='lbfgs',penalty='l2', dual=False, max_iter=max_iter)\n",
    "                    testf1, testacc = test(classifer_model=classifer_model,test_X = test_X_reduced, test_y = y_val)\n",
    "                    trainf1, trainacc = test(classifer_model=classifer_model,test_X = X_reduced, test_y = y_train)\n",
    "                    svm_PCA_acc1.append(testacc)\n",
    "                    svm_PCA_f11.append(trainacc)\n",
    "\n",
    "        if penalty == 'l1':\n",
    "            for c in C_range:\n",
    "                for max_iter in max_iter_range:\n",
    "                    print(penalty, c, max_iter)\n",
    "                    classifer_model =  sethyperparam(X_reduced, y_train, method='Logistic Regression', solver='liblinear',penalty='l1', dual=False, max_iter=max_iter)\n",
    "                    testf1, testacc = test(classifer_model=classifer_model,test_X = test_X_reduced, test_y = y_val)\n",
    "                    trainf1, trainacc = test(classifer_model=classifer_model,test_X = X_reduced, test_y = y_train)\n",
    "                    svm_PCA_acc1.append(testacc)\n",
    "                    svm_PCA_f11.append(trainacc)\n",
    "main2()"
   ]
  },
  {
   "cell_type": "code",
   "execution_count": 22,
   "metadata": {},
   "outputs": [],
   "source": [
    "temp_C = []\n",
    "temp_maxitr = []\n",
    "temp_penality = []\n",
    "temp_solver = []\n",
    "for i in range(len(C_range)):\n",
    "    for j in range (len(max_iter_range)):\n",
    "        temp_C.append(C_range[i])\n",
    "        temp_maxitr.append(max_iter_range[j])\n",
    "        temp_penality.append('l1')\n",
    "        temp_solver.append('liblinear')\n",
    "\n",
    "for i in range(len(C_range)):\n",
    "    for j in range (len(max_iter_range)):\n",
    "        temp_C.append(C_range[i])\n",
    "        temp_maxitr.append(max_iter_range[j])\n",
    "        temp_penality.append('l2')\n",
    "        temp_solver.append('liblinear')\n",
    "        \n",
    "for i in range(len(C_range)):\n",
    "    for j in range (len(max_iter_range)):\n",
    "        temp_C.append(C_range[i])\n",
    "        temp_maxitr.append(max_iter_range[j])\n",
    "        temp_penality.append('l2')\n",
    "        temp_solver.append('lbfgs')"
   ]
  },
  {
   "cell_type": "code",
   "execution_count": 23,
   "metadata": {},
   "outputs": [
    {
     "name": "stdout",
     "output_type": "stream",
     "text": [
      "[0.5, 0.5, 1, 1, 2.5, 2.5, 0.5, 0.5, 1, 1, 2.5, 2.5, 0.5, 0.5, 1, 1, 2.5, 2.5]\n",
      "[200, 500, 200, 500, 200, 500, 200, 500, 200, 500, 200, 500, 200, 500, 200, 500, 200, 500]\n",
      "['l1', 'l1', 'l1', 'l1', 'l1', 'l1', 'l2', 'l2', 'l2', 'l2', 'l2', 'l2', 'l2', 'l2', 'l2', 'l2', 'l2', 'l2']\n",
      "['liblinear', 'liblinear', 'liblinear', 'liblinear', 'liblinear', 'liblinear', 'liblinear', 'liblinear', 'liblinear', 'liblinear', 'liblinear', 'liblinear', 'lbfgs', 'lbfgs', 'lbfgs', 'lbfgs', 'lbfgs', 'lbfgs']\n",
      "[0.4285, 0.4285, 0.4285, 0.4285, 0.4285, 0.4285, 0.4195, 0.4195, 0.4195, 0.4195, 0.4195, 0.4195, 0.424, 0.424, 0.424, 0.424, 0.424, 0.424]\n",
      "[0.440625, 0.440625, 0.440625, 0.44075, 0.440625, 0.440625, 0.44575, 0.44575, 0.44575, 0.44575, 0.44575, 0.44575, 0.451125, 0.451125, 0.451125, 0.451125, 0.451125, 0.451125]\n"
     ]
    }
   ],
   "source": [
    "print(temp_C)\n",
    "print(temp_maxitr)\n",
    "print(temp_penality)\n",
    "print(temp_solver)\n",
    "print(svm_PCA_acc1)\n",
    "print(svm_PCA_f11)"
   ]
  },
  {
   "cell_type": "code",
   "execution_count": 25,
   "metadata": {},
   "outputs": [
    {
     "data": {
      "text/html": [
       "<div>\n",
       "<style scoped>\n",
       "    .dataframe tbody tr th:only-of-type {\n",
       "        vertical-align: middle;\n",
       "    }\n",
       "\n",
       "    .dataframe tbody tr th {\n",
       "        vertical-align: top;\n",
       "    }\n",
       "\n",
       "    .dataframe thead th {\n",
       "        text-align: right;\n",
       "    }\n",
       "</style>\n",
       "<table border=\"1\" class=\"dataframe\">\n",
       "  <thead>\n",
       "    <tr style=\"text-align: right;\">\n",
       "      <th></th>\n",
       "      <th>Solver</th>\n",
       "      <th>Penality</th>\n",
       "      <th>Max iterations</th>\n",
       "      <th>C</th>\n",
       "      <th>Test Accuracy</th>\n",
       "      <th>Train Accuracy</th>\n",
       "    </tr>\n",
       "  </thead>\n",
       "  <tbody>\n",
       "    <tr>\n",
       "      <th>1</th>\n",
       "      <td>liblinear</td>\n",
       "      <td>l1</td>\n",
       "      <td>200</td>\n",
       "      <td>0.5</td>\n",
       "      <td>0.4285</td>\n",
       "      <td>0.440625</td>\n",
       "    </tr>\n",
       "    <tr>\n",
       "      <th>2</th>\n",
       "      <td>liblinear</td>\n",
       "      <td>l1</td>\n",
       "      <td>500</td>\n",
       "      <td>0.5</td>\n",
       "      <td>0.4285</td>\n",
       "      <td>0.440625</td>\n",
       "    </tr>\n",
       "    <tr>\n",
       "      <th>3</th>\n",
       "      <td>liblinear</td>\n",
       "      <td>l1</td>\n",
       "      <td>200</td>\n",
       "      <td>1.0</td>\n",
       "      <td>0.4285</td>\n",
       "      <td>0.440625</td>\n",
       "    </tr>\n",
       "    <tr>\n",
       "      <th>4</th>\n",
       "      <td>liblinear</td>\n",
       "      <td>l1</td>\n",
       "      <td>500</td>\n",
       "      <td>1.0</td>\n",
       "      <td>0.4285</td>\n",
       "      <td>0.440750</td>\n",
       "    </tr>\n",
       "    <tr>\n",
       "      <th>5</th>\n",
       "      <td>liblinear</td>\n",
       "      <td>l1</td>\n",
       "      <td>200</td>\n",
       "      <td>2.5</td>\n",
       "      <td>0.4285</td>\n",
       "      <td>0.440625</td>\n",
       "    </tr>\n",
       "    <tr>\n",
       "      <th>6</th>\n",
       "      <td>liblinear</td>\n",
       "      <td>l1</td>\n",
       "      <td>500</td>\n",
       "      <td>2.5</td>\n",
       "      <td>0.4285</td>\n",
       "      <td>0.440625</td>\n",
       "    </tr>\n",
       "    <tr>\n",
       "      <th>7</th>\n",
       "      <td>liblinear</td>\n",
       "      <td>l2</td>\n",
       "      <td>200</td>\n",
       "      <td>0.5</td>\n",
       "      <td>0.4195</td>\n",
       "      <td>0.445750</td>\n",
       "    </tr>\n",
       "    <tr>\n",
       "      <th>8</th>\n",
       "      <td>liblinear</td>\n",
       "      <td>l2</td>\n",
       "      <td>500</td>\n",
       "      <td>0.5</td>\n",
       "      <td>0.4195</td>\n",
       "      <td>0.445750</td>\n",
       "    </tr>\n",
       "    <tr>\n",
       "      <th>9</th>\n",
       "      <td>liblinear</td>\n",
       "      <td>l2</td>\n",
       "      <td>200</td>\n",
       "      <td>1.0</td>\n",
       "      <td>0.4195</td>\n",
       "      <td>0.445750</td>\n",
       "    </tr>\n",
       "    <tr>\n",
       "      <th>10</th>\n",
       "      <td>liblinear</td>\n",
       "      <td>l2</td>\n",
       "      <td>500</td>\n",
       "      <td>1.0</td>\n",
       "      <td>0.4195</td>\n",
       "      <td>0.445750</td>\n",
       "    </tr>\n",
       "    <tr>\n",
       "      <th>11</th>\n",
       "      <td>liblinear</td>\n",
       "      <td>l2</td>\n",
       "      <td>200</td>\n",
       "      <td>2.5</td>\n",
       "      <td>0.4195</td>\n",
       "      <td>0.445750</td>\n",
       "    </tr>\n",
       "    <tr>\n",
       "      <th>12</th>\n",
       "      <td>liblinear</td>\n",
       "      <td>l2</td>\n",
       "      <td>500</td>\n",
       "      <td>2.5</td>\n",
       "      <td>0.4195</td>\n",
       "      <td>0.445750</td>\n",
       "    </tr>\n",
       "    <tr>\n",
       "      <th>13</th>\n",
       "      <td>lbfgs</td>\n",
       "      <td>l2</td>\n",
       "      <td>200</td>\n",
       "      <td>0.5</td>\n",
       "      <td>0.4240</td>\n",
       "      <td>0.451125</td>\n",
       "    </tr>\n",
       "    <tr>\n",
       "      <th>14</th>\n",
       "      <td>lbfgs</td>\n",
       "      <td>l2</td>\n",
       "      <td>500</td>\n",
       "      <td>0.5</td>\n",
       "      <td>0.4240</td>\n",
       "      <td>0.451125</td>\n",
       "    </tr>\n",
       "    <tr>\n",
       "      <th>15</th>\n",
       "      <td>lbfgs</td>\n",
       "      <td>l2</td>\n",
       "      <td>200</td>\n",
       "      <td>1.0</td>\n",
       "      <td>0.4240</td>\n",
       "      <td>0.451125</td>\n",
       "    </tr>\n",
       "    <tr>\n",
       "      <th>16</th>\n",
       "      <td>lbfgs</td>\n",
       "      <td>l2</td>\n",
       "      <td>500</td>\n",
       "      <td>1.0</td>\n",
       "      <td>0.4240</td>\n",
       "      <td>0.451125</td>\n",
       "    </tr>\n",
       "    <tr>\n",
       "      <th>17</th>\n",
       "      <td>lbfgs</td>\n",
       "      <td>l2</td>\n",
       "      <td>200</td>\n",
       "      <td>2.5</td>\n",
       "      <td>0.4240</td>\n",
       "      <td>0.451125</td>\n",
       "    </tr>\n",
       "    <tr>\n",
       "      <th>18</th>\n",
       "      <td>lbfgs</td>\n",
       "      <td>l2</td>\n",
       "      <td>500</td>\n",
       "      <td>2.5</td>\n",
       "      <td>0.4240</td>\n",
       "      <td>0.451125</td>\n",
       "    </tr>\n",
       "  </tbody>\n",
       "</table>\n",
       "</div>"
      ],
      "text/plain": [
       "       Solver Penality  Max iterations    C  Test Accuracy  Train Accuracy\n",
       "1   liblinear       l1             200  0.5         0.4285        0.440625\n",
       "2   liblinear       l1             500  0.5         0.4285        0.440625\n",
       "3   liblinear       l1             200  1.0         0.4285        0.440625\n",
       "4   liblinear       l1             500  1.0         0.4285        0.440750\n",
       "5   liblinear       l1             200  2.5         0.4285        0.440625\n",
       "6   liblinear       l1             500  2.5         0.4285        0.440625\n",
       "7   liblinear       l2             200  0.5         0.4195        0.445750\n",
       "8   liblinear       l2             500  0.5         0.4195        0.445750\n",
       "9   liblinear       l2             200  1.0         0.4195        0.445750\n",
       "10  liblinear       l2             500  1.0         0.4195        0.445750\n",
       "11  liblinear       l2             200  2.5         0.4195        0.445750\n",
       "12  liblinear       l2             500  2.5         0.4195        0.445750\n",
       "13      lbfgs       l2             200  0.5         0.4240        0.451125\n",
       "14      lbfgs       l2             500  0.5         0.4240        0.451125\n",
       "15      lbfgs       l2             200  1.0         0.4240        0.451125\n",
       "16      lbfgs       l2             500  1.0         0.4240        0.451125\n",
       "17      lbfgs       l2             200  2.5         0.4240        0.451125\n",
       "18      lbfgs       l2             500  2.5         0.4240        0.451125"
      ]
     },
     "execution_count": 25,
     "metadata": {},
     "output_type": "execute_result"
    }
   ],
   "source": [
    "data1 = {'Solver' : temp_solver,\n",
    "         'Penality' : temp_penality,\n",
    "         'Max iterations' : temp_maxitr,\n",
    "         'C' : temp_C,\n",
    "         'Test Accuracy' : svm_PCA_acc1,\n",
    "         'Train Accuracy' : svm_PCA_f11\n",
    "#         'Score':svm_PCA_f1\n",
    "       }\n",
    "p1 = pd.DataFrame(data1)\n",
    "columnsTitles=[\"Solver\",\"Penality\", \"Max iterations\",\"C\", \"Test Accuracy\", \"Train Accuracy\"]\n",
    "p1 = p1.reindex(columns=columnsTitles)\n",
    "p1.index = range(1,19)\n",
    "p1"
   ]
  },
  {
   "cell_type": "code",
   "execution_count": 27,
   "metadata": {},
   "outputs": [
    {
     "name": "stdout",
     "output_type": "stream",
     "text": [
      "0.4285\n",
      "0.4285\n",
      "0.4128\n",
      "0.4128\n"
     ]
    },
    {
     "data": {
      "text/plain": [
       "(0.4128, 0.4128)"
      ]
     },
     "execution_count": 27,
     "metadata": {},
     "output_type": "execute_result"
    }
   ],
   "source": [
    "classifer_model = classifer_model = sethyperparam(X_reduced, y_train, method='Logistic Regression', solver='liblinear',penalty='l1', dual=False, max_iter=200, C=1)\n",
    "testf1, testacc = test(classifer_model=classifer_model,test_X = test_X_reduced, test_y = y_val)\n",
    "test(classifer_model=classifer_model,test_X = reducedtestdata, test_y = tst_labels)"
   ]
  },
  {
   "cell_type": "code",
   "execution_count": null,
   "metadata": {},
   "outputs": [],
   "source": []
  }
 ],
 "metadata": {
  "kernelspec": {
   "display_name": "Python 3",
   "language": "python",
   "name": "python3"
  },
  "language_info": {
   "codemirror_mode": {
    "name": "ipython",
    "version": 3
   },
   "file_extension": ".py",
   "mimetype": "text/x-python",
   "name": "python",
   "nbconvert_exporter": "python",
   "pygments_lexer": "ipython3",
   "version": "3.5.2"
  }
 },
 "nbformat": 4,
 "nbformat_minor": 2
}
