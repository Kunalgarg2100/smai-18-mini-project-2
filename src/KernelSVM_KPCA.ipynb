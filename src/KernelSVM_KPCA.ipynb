{
 "cells": [
  {
   "cell_type": "code",
   "execution_count": 2,
   "metadata": {},
   "outputs": [],
   "source": [
    "import os\n",
    "import cv2\n",
    "import pickle\n",
    "import numpy as np\n",
    "import pandas as pd\n",
    "import pdb\n",
    "import requests\n",
    "import matplotlib.pyplot as plt\n",
    "from collections import defaultdict\n",
    "import random \n",
    "import time\n",
    "\n",
    "from sklearn.decomposition import PCA\n",
    "from sklearn.linear_model import LogisticRegression\n",
    "from sklearn.decomposition import KernelPCA\n",
    "from sklearn.preprocessing import MinMaxScaler\n",
    "from sklearn import tree\n",
    "from sklearn import svm\n",
    "from sklearn.model_selection import GridSearchCV\n",
    "from sklearn.metrics import f1_score, accuracy_score\n",
    "from sklearn.model_selection import train_test_split\n",
    "from tqdm import *\n",
    "\n",
    "from functools import wraps\n",
    "from time import time as _timenow \n",
    "from sys import stderr"
   ]
  },
  {
   "cell_type": "markdown",
   "metadata": {},
   "source": [
    "## Load CIFAR-10 Data"
   ]
  },
  {
   "cell_type": "code",
   "execution_count": 3,
   "metadata": {},
   "outputs": [],
   "source": [
    "def load_cifar():\n",
    "    \n",
    "    trn_data, trn_labels, tst_data, tst_labels = [], [], [], []\n",
    "    def unpickle(file):\n",
    "        with open(file, 'rb') as fo:\n",
    "            data = pickle.load(fo, encoding='latin1')\n",
    "        return data\n",
    "    \n",
    "    for i in trange(1):\n",
    "        batchName = './data/data_batch_{0}'.format(i + 1)\n",
    "        unpickled = unpickle(batchName)\n",
    "        trn_data.extend(unpickled['data'])\n",
    "        trn_labels.extend(unpickled['labels'])\n",
    "    unpickled = unpickle('./data/test_batch')\n",
    "    tst_data.extend(unpickled['data'])\n",
    "    tst_labels.extend(unpickled['labels'])\n",
    "    return trn_data, trn_labels, tst_data, tst_labels"
   ]
  },
  {
   "cell_type": "markdown",
   "metadata": {},
   "source": [
    "## Image preprocessing"
   ]
  },
  {
   "cell_type": "code",
   "execution_count": 4,
   "metadata": {},
   "outputs": [],
   "source": [
    "def image_prep(image):\n",
    "    processed_image = image\n",
    "#     processed_image = processed_image/sd\n",
    "    ''' pre-processes the given image\n",
    "        performs mean normalization and other such operations'''\n",
    "    return processed_image"
   ]
  },
  {
   "cell_type": "markdown",
   "metadata": {},
   "source": [
    "## Dimensionality reduction using PCA"
   ]
  },
  {
   "cell_type": "code",
   "execution_count": 5,
   "metadata": {},
   "outputs": [],
   "source": [
    "def reduce_dim(**kwargs):\n",
    "    dim = kwargs['dim']\n",
    "    train_X = kwargs['train_X']\n",
    "    train_y = kwargs['train_y']\n",
    "    ''' performs dimensionality reduction'''\n",
    "    if kwargs['method'] == 'pca':\n",
    "        pca = PCA(n_components=dim)\n",
    "        pca.fit(train_X)\n",
    "        X_reduced = pca.transform(train_X)\n",
    "        return pca, X_reduced\n",
    "    \n",
    "    if kwargs['method'] == 'lda':\n",
    "        lda = LinearDiscriminantAnalysis(n_components=dim)\n",
    "        lda.fit(train_X,train_y)\n",
    "        X_reduced = lda.transform(train_X)\n",
    "        return lda, X_reduced\n",
    "    \n",
    "    if kwargs['method'] == 'kpca':\n",
    "        kpca = KernelPCA(n_components=dim, kernel='rbf',n_jobs = -1)\n",
    "        X_reduced = kpca.fit_transform(train_X)\n",
    "        return kpca, X_reduced"
   ]
  },
  {
   "cell_type": "markdown",
   "metadata": {},
   "source": [
    "## Classification using kernel SVM"
   ]
  },
  {
   "cell_type": "code",
   "execution_count": 6,
   "metadata": {},
   "outputs": [],
   "source": [
    "def classify(X, y, **kwargs):\n",
    "    ''' trains a classifier by taking input features\n",
    "        and their respective targets and returns the trained model'''\n",
    "    if kwargs['method'] == 'Logistic Regression':\n",
    "        clf = LogisticRegression()\n",
    "        clf = clf.fit(X, y)\n",
    "        return clf\n",
    "    if kwargs['method'] == 'Decision Tree':\n",
    "        clf = tree.DecisionTreeClassifier()\n",
    "        clf = clf.fit(X, y)\n",
    "        return clf\n",
    "    if kwargs['method'] == 'Kernel SVM':\n",
    "        clf = svm.SVC(gamma='scale',kernel='rbf')\n",
    "        clf = clf.fit(X, y)\n",
    "        return clf\n",
    "        "
   ]
  },
  {
   "cell_type": "markdown",
   "metadata": {},
   "source": [
    "## Evaluation "
   ]
  },
  {
   "cell_type": "code",
   "execution_count": 7,
   "metadata": {},
   "outputs": [],
   "source": [
    "def evaluate(target, predicted):\n",
    "    f1 = f1_score(target, predicted, average='micro')\n",
    "    acc = accuracy_score(target, predicted)\n",
    "    return f1, acc"
   ]
  },
  {
   "cell_type": "code",
   "execution_count": 8,
   "metadata": {},
   "outputs": [],
   "source": [
    "def test(**kwargs):\n",
    "    classifer_model = kwargs['classifer_model']\n",
    "    test_X = kwargs['test_X']\n",
    "    test_y = kwargs['test_y']\n",
    "    predicted_y = classifer_model.predict(test_X)\n",
    "    f1, acc = evaluate(test_y, predicted=predicted_y)\n",
    "    print(f1)\n",
    "#     print(acc)\n",
    "    return f1, acc"
   ]
  },
  {
   "cell_type": "code",
   "execution_count": 10,
   "metadata": {},
   "outputs": [
    {
     "name": "stderr",
     "output_type": "stream",
     "text": [
      "100%|██████████| 1/1 [00:00<00:00, 29.30it/s]\n"
     ]
    },
    {
     "name": "stdout",
     "output_type": "stream",
     "text": [
      "1\n",
      "0.169\n",
      "2\n",
      "0.20999999999999996\n",
      "4\n",
      "0.266\n",
      "8\n",
      "0.321\n",
      "16\n",
      "0.3575\n",
      "32\n",
      "0.3775\n",
      "64\n",
      "0.37050000000000005\n",
      "128\n",
      "0.37050000000000005\n",
      "256\n",
      "0.3565\n",
      "512\n",
      "0.346\n",
      "1024\n",
      "0.325\n"
     ]
    }
   ],
   "source": [
    "svm_PCA_acc = []\n",
    "svm_PCA_f1 = []\n",
    "def main1():\n",
    "    trn_data, trn_labels, tst_data, tst_labels = load_cifar()\n",
    "    trn_data, tst_data = list(map(image_prep, trn_data)), list(map(image_prep, tst_data))\n",
    "    X_train, X_val, y_train, y_val = train_test_split(trn_data, trn_labels,test_size = 0.20)\n",
    "    scaling = MinMaxScaler(feature_range=(-1,1)).fit(X_train)\n",
    "    X_train = scaling.transform(X_train)\n",
    "    X_val = scaling.transform(X_val)\n",
    "    dims=[1,2,4,8,16,32,64,128,256,512,1024]\n",
    "    for dim in dims:\n",
    "        print(dim)\n",
    "        reduced_model, X_reduced = reduce_dim(method='kpca',dim=dim,train_X = X_train,train_y = y_train)\n",
    "        classifer_model = classify(X_reduced, y_train, method='Kernel SVM')\n",
    "        test_X_reduced = reduced_model.transform(X_val)\n",
    "        f1, acc = test(classifer_model=classifer_model,test_X = test_X_reduced, test_y = y_val)\n",
    "        svm_PCA_acc.append(acc)\n",
    "        svm_PCA_f1.append(f1)\n",
    "main1()\n",
    "#     print('Val - F1 score: {}\\n Accuracy: {}'.format(f_score, accuracy_))\n"
   ]
  },
  {
   "cell_type": "code",
   "execution_count": 11,
   "metadata": {},
   "outputs": [
    {
     "data": {
      "image/png": "[encoded data removed]",
      "text/plain": [
       "<Figure size 432x288 with 1 Axes>"
      ]
     },
     "metadata": {
      "needs_background": "light"
     },
     "output_type": "display_data"
    }
   ],
   "source": [
    "dims=[1,2,4,8,16,32,64,128,256,512,1024]\n",
    "for i in range(1,len(svm_PCA_acc)):\n",
    "#     print(i)\n",
    "    svm_PCA_f1[i] = round(svm_PCA_f1[i], 3)\n",
    "#     print(i)\n",
    "fig = plt.figure()\n",
    "ax = fig.add_subplot(111)\n",
    "plt.plot(dims,svm_PCA_acc,'r')\n",
    "plt.xlabel('Dimensions Used')\n",
    "plt.ylabel('Accuracy')\n",
    "plt.title('Accuracy vs Dimensions(KPCA) for Kernel SVM')\n",
    "for xy in zip(dims, svm_PCA_acc):\n",
    "    ax.annotate('(%s, %s)' % xy, xy=xy, textcoords='data')\n",
    "plt.savefig('finalkernelsvm_KPCA_accuracy_2.svg',format='svg')"
   ]
  },
  {
   "cell_type": "code",
   "execution_count": 12,
   "metadata": {},
   "outputs": [
    {
     "name": "stdout",
     "output_type": "stream",
     "text": [
      "[1, 2, 4, 8, 16, 32, 64, 128, 256, 512, 1024]\n"
     ]
    }
   ],
   "source": [
    "print(dims)\n",
    "data = {'Dimensions' : dims,\n",
    "        'Accuracy':svm_PCA_acc,\n",
    "#         'Score':svm_PCA_f1\n",
    "       }\n",
    "p = pd.DataFrame(data)"
   ]
  },
  {
   "cell_type": "code",
   "execution_count": 13,
   "metadata": {},
   "outputs": [
    {
     "data": {
      "text/html": [
       "<div>\n",
       "<style scoped>\n",
       "    .dataframe tbody tr th:only-of-type {\n",
       "        vertical-align: middle;\n",
       "    }\n",
       "\n",
       "    .dataframe tbody tr th {\n",
       "        vertical-align: top;\n",
       "    }\n",
       "\n",
       "    .dataframe thead th {\n",
       "        text-align: right;\n",
       "    }\n",
       "</style>\n",
       "<table border=\"1\" class=\"dataframe\">\n",
       "  <thead>\n",
       "    <tr style=\"text-align: right;\">\n",
       "      <th></th>\n",
       "      <th>Dimensions</th>\n",
       "      <th>Accuracy</th>\n",
       "    </tr>\n",
       "  </thead>\n",
       "  <tbody>\n",
       "    <tr>\n",
       "      <th>1</th>\n",
       "      <td>1</td>\n",
       "      <td>0.1690</td>\n",
       "    </tr>\n",
       "    <tr>\n",
       "      <th>2</th>\n",
       "      <td>2</td>\n",
       "      <td>0.2100</td>\n",
       "    </tr>\n",
       "    <tr>\n",
       "      <th>3</th>\n",
       "      <td>4</td>\n",
       "      <td>0.2660</td>\n",
       "    </tr>\n",
       "    <tr>\n",
       "      <th>4</th>\n",
       "      <td>8</td>\n",
       "      <td>0.3210</td>\n",
       "    </tr>\n",
       "    <tr>\n",
       "      <th>5</th>\n",
       "      <td>16</td>\n",
       "      <td>0.3575</td>\n",
       "    </tr>\n",
       "    <tr>\n",
       "      <th>6</th>\n",
       "      <td>32</td>\n",
       "      <td>0.3775</td>\n",
       "    </tr>\n",
       "    <tr>\n",
       "      <th>7</th>\n",
       "      <td>64</td>\n",
       "      <td>0.3705</td>\n",
       "    </tr>\n",
       "    <tr>\n",
       "      <th>8</th>\n",
       "      <td>128</td>\n",
       "      <td>0.3705</td>\n",
       "    </tr>\n",
       "    <tr>\n",
       "      <th>9</th>\n",
       "      <td>256</td>\n",
       "      <td>0.3565</td>\n",
       "    </tr>\n",
       "    <tr>\n",
       "      <th>10</th>\n",
       "      <td>512</td>\n",
       "      <td>0.3460</td>\n",
       "    </tr>\n",
       "    <tr>\n",
       "      <th>11</th>\n",
       "      <td>1024</td>\n",
       "      <td>0.3250</td>\n",
       "    </tr>\n",
       "  </tbody>\n",
       "</table>\n",
       "</div>"
      ],
      "text/plain": [
       "    Dimensions  Accuracy\n",
       "1            1    0.1690\n",
       "2            2    0.2100\n",
       "3            4    0.2660\n",
       "4            8    0.3210\n",
       "5           16    0.3575\n",
       "6           32    0.3775\n",
       "7           64    0.3705\n",
       "8          128    0.3705\n",
       "9          256    0.3565\n",
       "10         512    0.3460\n",
       "11        1024    0.3250"
      ]
     },
     "execution_count": 13,
     "metadata": {},
     "output_type": "execute_result"
    }
   ],
   "source": [
    "columnsTitles=[\"Dimensions\",\"Accuracy\"]\n",
    "p = p.reindex(columns=columnsTitles)\n",
    "p.index = range(1,12)\n",
    "# print(p)\n",
    "# print(svm_PCA_f1)\n",
    "p"
   ]
  },
  {
   "cell_type": "code",
   "execution_count": 9,
   "metadata": {},
   "outputs": [],
   "source": [
    "def sethyperparam(X, y, **kwargs):\n",
    "     if kwargs['method'] == 'Kernel SVM':\n",
    "            C = kwargs['C']\n",
    "            gamma = kwargs['gamma']\n",
    "            clf = svm.SVC(C = C, gamma=gamma,kernel='rbf')\n",
    "            clf = clf.fit(X, y)\n",
    "            return clf"
   ]
  },
  {
   "cell_type": "code",
   "execution_count": 10,
   "metadata": {},
   "outputs": [
    {
     "name": "stderr",
     "output_type": "stream",
     "text": [
      "100%|██████████| 1/1 [00:00<00:00, 17.03it/s]\n"
     ]
    }
   ],
   "source": [
    "trn_data, trn_labels, tst_data, tst_labels = load_cifar()\n",
    "trn_data, tst_data = list(map(image_prep, trn_data)), list(map(image_prep, tst_data))\n",
    "X_train, X_val, y_train, y_val = train_test_split(trn_data, trn_labels,test_size = 0.20)\n",
    "scaling = MinMaxScaler(feature_range=(-1,1)).fit(X_train)\n",
    "X_train = scaling.transform(X_train)\n",
    "X_val = scaling.transform(X_val)\n",
    "tst_data = scaling.transform(tst_data)\n",
    " \n",
    "reduced_model, X_reduced = reduce_dim(method='kpca',dim=32,train_X = X_train,train_y = y_train)\n",
    "test_X_reduced = reduced_model.transform(X_val)\n",
    "reducedtestdata = reduced_model.transform(tst_data)"
   ]
  },
  {
   "cell_type": "code",
   "execution_count": 11,
   "metadata": {},
   "outputs": [],
   "source": [
    "C_range = [0.5, 1, 5, 10]\n",
    "gamma_range = [0.0005, 0.001, 0.01, 0.1, 0.5]\n",
    "svm_PCA_acc1 = []\n",
    "svm_PCA_f11 = []\n",
    "def main2():\n",
    "    for C in C_range:\n",
    "        for gamma in gamma_range:\n",
    "            print(C, gamma)\n",
    "            classifer_model = sethyperparam(X_reduced, y_train, method='Kernel SVM', gamma=gamma, C=C)\n",
    "            testf1, testacc = test(classifer_model=classifer_model,test_X = test_X_reduced, test_y = y_val)\n",
    "            trainf1, trainacc = test(classifer_model=classifer_model,test_X = X_reduced, test_y = y_train)\n",
    "            svm_PCA_acc1.append(testacc)\n",
    "            svm_PCA_f11.append(trainacc)"
   ]
  },
  {
   "cell_type": "code",
   "execution_count": 12,
   "metadata": {},
   "outputs": [
    {
     "name": "stdout",
     "output_type": "stream",
     "text": [
      "0.5 0.0005\n",
      "0.10149999999999999\n",
      "0.10362499999999998\n",
      "0.5 0.001\n",
      "0.10149999999999999\n",
      "0.10362499999999998\n",
      "0.5 0.01\n",
      "0.171\n",
      "0.15575\n",
      "0.5 0.1\n",
      "0.329\n",
      "0.335625\n",
      "0.5 0.5\n",
      "0.3755\n",
      "0.395625\n",
      "1 0.0005\n",
      "0.10149999999999999\n",
      "0.10362499999999998\n",
      "1 0.001\n",
      "0.10149999999999999\n",
      "0.10362499999999998\n",
      "1 0.01\n",
      "0.22400000000000003\n",
      "0.2255\n",
      "1 0.1\n",
      "0.3505\n",
      "0.362125\n",
      "1 0.5\n",
      "0.3885\n",
      "0.419\n",
      "5 0.0005\n",
      "0.10149999999999999\n",
      "0.10362499999999998\n",
      "5 0.001\n",
      "0.171\n",
      "0.155625\n",
      "5 0.01\n",
      "0.3325\n",
      "0.336\n",
      "5 0.1\n",
      "0.383\n",
      "0.40775\n",
      "5 0.5\n",
      "0.40700000000000003\n",
      "0.47225\n",
      "10 0.0005\n",
      "0.1705\n",
      "0.155625\n",
      "10 0.001\n",
      "0.2245\n",
      "0.226875\n",
      "10 0.01\n",
      "0.35\n",
      "0.36250000000000004\n",
      "10 0.1\n",
      "0.3835\n",
      "0.41537500000000005\n",
      "10 0.5\n",
      "0.42299999999999993\n",
      "0.501\n"
     ]
    }
   ],
   "source": [
    "main2()"
   ]
  },
  {
   "cell_type": "code",
   "execution_count": 13,
   "metadata": {},
   "outputs": [],
   "source": [
    "temp_C = []\n",
    "temp_gamma = []\n",
    "for i in range(len(C_range)):\n",
    "    for j in range (len(gamma_range)):\n",
    "        temp_C.append(C_range[i])\n",
    "        temp_gamma.append(gamma_range[j])  "
   ]
  },
  {
   "cell_type": "code",
   "execution_count": 14,
   "metadata": {},
   "outputs": [
    {
     "name": "stdout",
     "output_type": "stream",
     "text": [
      "[0.5, 0.5, 0.5, 0.5, 0.5, 1, 1, 1, 1, 1, 5, 5, 5, 5, 5, 10, 10, 10, 10, 10]\n",
      "[0.0005, 0.001, 0.01, 0.1, 0.5, 0.0005, 0.001, 0.01, 0.1, 0.5, 0.0005, 0.001, 0.01, 0.1, 0.5, 0.0005, 0.001, 0.01, 0.1, 0.5]\n",
      "[0.1015, 0.1015, 0.171, 0.329, 0.3755, 0.1015, 0.1015, 0.224, 0.3505, 0.3885, 0.1015, 0.171, 0.3325, 0.383, 0.407, 0.1705, 0.2245, 0.35, 0.3835, 0.423]\n",
      "[0.103625, 0.103625, 0.15575, 0.335625, 0.395625, 0.103625, 0.103625, 0.2255, 0.362125, 0.419, 0.103625, 0.155625, 0.336, 0.40775, 0.47225, 0.155625, 0.226875, 0.3625, 0.415375, 0.501]\n"
     ]
    }
   ],
   "source": [
    "print(temp_C)\n",
    "print(temp_gamma)\n",
    "print(svm_PCA_acc1)\n",
    "print(svm_PCA_f11)"
   ]
  },
  {
   "cell_type": "code",
   "execution_count": 15,
   "metadata": {},
   "outputs": [
    {
     "data": {
      "text/html": [
       "<div>\n",
       "<style scoped>\n",
       "    .dataframe tbody tr th:only-of-type {\n",
       "        vertical-align: middle;\n",
       "    }\n",
       "\n",
       "    .dataframe tbody tr th {\n",
       "        vertical-align: top;\n",
       "    }\n",
       "\n",
       "    .dataframe thead th {\n",
       "        text-align: right;\n",
       "    }\n",
       "</style>\n",
       "<table border=\"1\" class=\"dataframe\">\n",
       "  <thead>\n",
       "    <tr style=\"text-align: right;\">\n",
       "      <th></th>\n",
       "      <th>C</th>\n",
       "      <th>Gamma</th>\n",
       "      <th>Test Accuracy</th>\n",
       "      <th>Train Accuracy</th>\n",
       "    </tr>\n",
       "  </thead>\n",
       "  <tbody>\n",
       "    <tr>\n",
       "      <th>1</th>\n",
       "      <td>0.5</td>\n",
       "      <td>0.0005</td>\n",
       "      <td>0.1015</td>\n",
       "      <td>0.103625</td>\n",
       "    </tr>\n",
       "    <tr>\n",
       "      <th>2</th>\n",
       "      <td>0.5</td>\n",
       "      <td>0.0010</td>\n",
       "      <td>0.1015</td>\n",
       "      <td>0.103625</td>\n",
       "    </tr>\n",
       "    <tr>\n",
       "      <th>3</th>\n",
       "      <td>0.5</td>\n",
       "      <td>0.0100</td>\n",
       "      <td>0.1710</td>\n",
       "      <td>0.155750</td>\n",
       "    </tr>\n",
       "    <tr>\n",
       "      <th>4</th>\n",
       "      <td>0.5</td>\n",
       "      <td>0.1000</td>\n",
       "      <td>0.3290</td>\n",
       "      <td>0.335625</td>\n",
       "    </tr>\n",
       "    <tr>\n",
       "      <th>5</th>\n",
       "      <td>0.5</td>\n",
       "      <td>0.5000</td>\n",
       "      <td>0.3755</td>\n",
       "      <td>0.395625</td>\n",
       "    </tr>\n",
       "    <tr>\n",
       "      <th>6</th>\n",
       "      <td>1.0</td>\n",
       "      <td>0.0005</td>\n",
       "      <td>0.1015</td>\n",
       "      <td>0.103625</td>\n",
       "    </tr>\n",
       "    <tr>\n",
       "      <th>7</th>\n",
       "      <td>1.0</td>\n",
       "      <td>0.0010</td>\n",
       "      <td>0.1015</td>\n",
       "      <td>0.103625</td>\n",
       "    </tr>\n",
       "    <tr>\n",
       "      <th>8</th>\n",
       "      <td>1.0</td>\n",
       "      <td>0.0100</td>\n",
       "      <td>0.2240</td>\n",
       "      <td>0.225500</td>\n",
       "    </tr>\n",
       "    <tr>\n",
       "      <th>9</th>\n",
       "      <td>1.0</td>\n",
       "      <td>0.1000</td>\n",
       "      <td>0.3505</td>\n",
       "      <td>0.362125</td>\n",
       "    </tr>\n",
       "    <tr>\n",
       "      <th>10</th>\n",
       "      <td>1.0</td>\n",
       "      <td>0.5000</td>\n",
       "      <td>0.3885</td>\n",
       "      <td>0.419000</td>\n",
       "    </tr>\n",
       "    <tr>\n",
       "      <th>11</th>\n",
       "      <td>5.0</td>\n",
       "      <td>0.0005</td>\n",
       "      <td>0.1015</td>\n",
       "      <td>0.103625</td>\n",
       "    </tr>\n",
       "    <tr>\n",
       "      <th>12</th>\n",
       "      <td>5.0</td>\n",
       "      <td>0.0010</td>\n",
       "      <td>0.1710</td>\n",
       "      <td>0.155625</td>\n",
       "    </tr>\n",
       "    <tr>\n",
       "      <th>13</th>\n",
       "      <td>5.0</td>\n",
       "      <td>0.0100</td>\n",
       "      <td>0.3325</td>\n",
       "      <td>0.336000</td>\n",
       "    </tr>\n",
       "    <tr>\n",
       "      <th>14</th>\n",
       "      <td>5.0</td>\n",
       "      <td>0.1000</td>\n",
       "      <td>0.3830</td>\n",
       "      <td>0.407750</td>\n",
       "    </tr>\n",
       "    <tr>\n",
       "      <th>15</th>\n",
       "      <td>5.0</td>\n",
       "      <td>0.5000</td>\n",
       "      <td>0.4070</td>\n",
       "      <td>0.472250</td>\n",
       "    </tr>\n",
       "    <tr>\n",
       "      <th>16</th>\n",
       "      <td>10.0</td>\n",
       "      <td>0.0005</td>\n",
       "      <td>0.1705</td>\n",
       "      <td>0.155625</td>\n",
       "    </tr>\n",
       "    <tr>\n",
       "      <th>17</th>\n",
       "      <td>10.0</td>\n",
       "      <td>0.0010</td>\n",
       "      <td>0.2245</td>\n",
       "      <td>0.226875</td>\n",
       "    </tr>\n",
       "    <tr>\n",
       "      <th>18</th>\n",
       "      <td>10.0</td>\n",
       "      <td>0.0100</td>\n",
       "      <td>0.3500</td>\n",
       "      <td>0.362500</td>\n",
       "    </tr>\n",
       "    <tr>\n",
       "      <th>19</th>\n",
       "      <td>10.0</td>\n",
       "      <td>0.1000</td>\n",
       "      <td>0.3835</td>\n",
       "      <td>0.415375</td>\n",
       "    </tr>\n",
       "    <tr>\n",
       "      <th>20</th>\n",
       "      <td>10.0</td>\n",
       "      <td>0.5000</td>\n",
       "      <td>0.4230</td>\n",
       "      <td>0.501000</td>\n",
       "    </tr>\n",
       "  </tbody>\n",
       "</table>\n",
       "</div>"
      ],
      "text/plain": [
       "       C   Gamma  Test Accuracy  Train Accuracy\n",
       "1    0.5  0.0005         0.1015        0.103625\n",
       "2    0.5  0.0010         0.1015        0.103625\n",
       "3    0.5  0.0100         0.1710        0.155750\n",
       "4    0.5  0.1000         0.3290        0.335625\n",
       "5    0.5  0.5000         0.3755        0.395625\n",
       "6    1.0  0.0005         0.1015        0.103625\n",
       "7    1.0  0.0010         0.1015        0.103625\n",
       "8    1.0  0.0100         0.2240        0.225500\n",
       "9    1.0  0.1000         0.3505        0.362125\n",
       "10   1.0  0.5000         0.3885        0.419000\n",
       "11   5.0  0.0005         0.1015        0.103625\n",
       "12   5.0  0.0010         0.1710        0.155625\n",
       "13   5.0  0.0100         0.3325        0.336000\n",
       "14   5.0  0.1000         0.3830        0.407750\n",
       "15   5.0  0.5000         0.4070        0.472250\n",
       "16  10.0  0.0005         0.1705        0.155625\n",
       "17  10.0  0.0010         0.2245        0.226875\n",
       "18  10.0  0.0100         0.3500        0.362500\n",
       "19  10.0  0.1000         0.3835        0.415375\n",
       "20  10.0  0.5000         0.4230        0.501000"
      ]
     },
     "execution_count": 15,
     "metadata": {},
     "output_type": "execute_result"
    }
   ],
   "source": [
    "data1 = {'C' : temp_C,\n",
    "         'Gamma' : temp_gamma,\n",
    "         'Test Accuracy' : svm_PCA_acc1,\n",
    "         'Train Accuracy' : svm_PCA_f11\n",
    "#         'Score':svm_PCA_f1\n",
    "       }\n",
    "p1 = pd.DataFrame(data1)\n",
    "columnsTitles=[\"C\",\"Gamma\", \"Test Accuracy\", \"Train Accuracy\"]\n",
    "p1 = p1.reindex(columns=columnsTitles)\n",
    "p1.index = range(1,21)\n",
    "p1"
   ]
  },
  {
   "cell_type": "code",
   "execution_count": 25,
   "metadata": {},
   "outputs": [
    {
     "name": "stdout",
     "output_type": "stream",
     "text": [
      "0.4475\n",
      "0.4556\n"
     ]
    },
    {
     "data": {
      "text/plain": [
       "(0.4556, 0.4556)"
      ]
     },
     "execution_count": 25,
     "metadata": {},
     "output_type": "execute_result"
    }
   ],
   "source": [
    "classifer_model1 = sethyperparam(X_reduced, y_train, method='Kernel SVM', gamma=1, C=100)\n",
    "testf1, testacc = test(classifer_model=classifer_model1,test_X = test_X_reduced, test_y = y_val)\n",
    "test(classifer_model=classifer_model1,test_X = reducedtestdata, test_y = tst_labels)\n"
   ]
  }
 ],
 "metadata": {
  "kernelspec": {
   "display_name": "Python 3",
   "language": "python",
   "name": "python3"
  },
  "language_info": {
   "codemirror_mode": {
    "name": "ipython",
    "version": 3
   },
   "file_extension": ".py",
   "mimetype": "text/x-python",
   "name": "python",
   "nbconvert_exporter": "python",
   "pygments_lexer": "ipython3",
   "version": "3.5.2"
  }
 },
 "nbformat": 4,
 "nbformat_minor": 2
}
