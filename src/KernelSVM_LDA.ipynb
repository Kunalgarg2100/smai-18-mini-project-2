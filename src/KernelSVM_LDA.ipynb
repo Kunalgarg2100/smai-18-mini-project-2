{
 "cells": [
  {
   "cell_type": "code",
   "execution_count": 1,
   "metadata": {},
   "outputs": [],
   "source": [
    "import os\n",
    "import cv2\n",
    "import pickle\n",
    "import numpy as np\n",
    "import pandas as pd\n",
    "import pdb\n",
    "import requests\n",
    "import matplotlib.pyplot as plt\n",
    "from collections import defaultdict\n",
    "import random \n",
    "import time\n",
    "\n",
    "from sklearn.decomposition import PCA\n",
    "from sklearn.discriminant_analysis import LinearDiscriminantAnalysis\n",
    "from sklearn.linear_model import LogisticRegression\n",
    "from sklearn.preprocessing import MinMaxScaler\n",
    "from sklearn import tree\n",
    "from sklearn import svm\n",
    "from sklearn.model_selection import GridSearchCV\n",
    "from sklearn.metrics import f1_score, accuracy_score\n",
    "from sklearn.model_selection import train_test_split\n",
    "from tqdm import *\n",
    "\n",
    "from functools import wraps\n",
    "from time import time as _timenow \n",
    "from sys import stderr"
   ]
  },
  {
   "cell_type": "markdown",
   "metadata": {},
   "source": [
    "## Load CIFAR-10 Data"
   ]
  },
  {
   "cell_type": "code",
   "execution_count": 2,
   "metadata": {},
   "outputs": [],
   "source": [
    "def load_cifar():\n",
    "    \n",
    "    trn_data, trn_labels, tst_data, tst_labels = [], [], [], []\n",
    "    def unpickle(file):\n",
    "        with open(file, 'rb') as fo:\n",
    "            data = pickle.load(fo, encoding='latin1')\n",
    "        return data\n",
    "    \n",
    "    for i in trange(1):\n",
    "        batchName = './data/data_batch_{0}'.format(i + 1)\n",
    "        unpickled = unpickle(batchName)\n",
    "        trn_data.extend(unpickled['data'])\n",
    "        trn_labels.extend(unpickled['labels'])\n",
    "    unpickled = unpickle('./data/test_batch')\n",
    "    tst_data.extend(unpickled['data'])\n",
    "    tst_labels.extend(unpickled['labels'])\n",
    "    return trn_data, trn_labels, tst_data, tst_labels"
   ]
  },
  {
   "cell_type": "markdown",
   "metadata": {},
   "source": [
    "## Image preprocessing"
   ]
  },
  {
   "cell_type": "code",
   "execution_count": 3,
   "metadata": {},
   "outputs": [],
   "source": [
    "def image_prep(image):\n",
    "    processed_image = image\n",
    "#     processed_image = processed_image/sd\n",
    "    ''' pre-processes the given image\n",
    "        performs mean normalization and other such operations'''\n",
    "    return processed_image"
   ]
  },
  {
   "cell_type": "markdown",
   "metadata": {},
   "source": [
    "## Dimensionality reduction using PCA"
   ]
  },
  {
   "cell_type": "code",
   "execution_count": 4,
   "metadata": {},
   "outputs": [],
   "source": [
    "def reduce_dim(**kwargs):\n",
    "    dim = kwargs['dim']\n",
    "    train_X = kwargs['train_X']\n",
    "    train_y = kwargs['train_y']\n",
    "    ''' performs dimensionality reduction'''\n",
    "    if kwargs['method'] == 'pca':\n",
    "        pca = PCA(n_components=dim)\n",
    "        pca.fit(train_X)\n",
    "        X_reduced = pca.transform(train_X)\n",
    "        return pca, X_reduced\n",
    "    \n",
    "    if kwargs['method'] == 'lda':\n",
    "        lda = LinearDiscriminantAnalysis(n_components=dim)\n",
    "        lda.fit(train_X,train_y)\n",
    "        X_reduced = lda.transform(train_X)\n",
    "        return lda, X_reduced        "
   ]
  },
  {
   "cell_type": "markdown",
   "metadata": {},
   "source": [
    "## Classification using kernel SVM"
   ]
  },
  {
   "cell_type": "code",
   "execution_count": 5,
   "metadata": {},
   "outputs": [],
   "source": [
    "def classify(X, y, **kwargs):\n",
    "    ''' trains a classifier by taking input features\n",
    "        and their respective targets and returns the trained model'''\n",
    "    if kwargs['method'] == 'Logistic Regression':\n",
    "        clf = LogisticRegression()\n",
    "        clf = clf.fit(X, y)\n",
    "        return clf\n",
    "    if kwargs['method'] == 'Decision Tree':\n",
    "        clf = tree.DecisionTreeClassifier()\n",
    "        clf = clf.fit(X, y)\n",
    "        return clf\n",
    "    if kwargs['method'] == 'Kernel SVM':\n",
    "        clf = svm.SVC(gamma='scale',kernel='rbf')\n",
    "        clf = clf.fit(X, y)\n",
    "        return clf\n",
    "        "
   ]
  },
  {
   "cell_type": "markdown",
   "metadata": {},
   "source": [
    "## Evaluation "
   ]
  },
  {
   "cell_type": "code",
   "execution_count": 6,
   "metadata": {},
   "outputs": [],
   "source": [
    "def evaluate(target, predicted):\n",
    "    f1 = f1_score(target, predicted, average='micro')\n",
    "    acc = accuracy_score(target, predicted)\n",
    "    return f1, acc"
   ]
  },
  {
   "cell_type": "code",
   "execution_count": 7,
   "metadata": {},
   "outputs": [],
   "source": [
    "def test(**kwargs):\n",
    "    classifer_model = kwargs['classifer_model']\n",
    "    test_X = kwargs['test_X']\n",
    "    test_y = kwargs['test_y']\n",
    "    predicted_y = classifer_model.predict(test_X)\n",
    "    f1, acc = evaluate(test_y, predicted=predicted_y)\n",
    "    print(f1)\n",
    "    print(acc)\n",
    "    return f1, acc"
   ]
  },
  {
   "cell_type": "code",
   "execution_count": 8,
   "metadata": {},
   "outputs": [],
   "source": [
    "svm_PCA_acc = []\n",
    "svm_PCA_f1 = []\n",
    "def main1():\n",
    "    trn_data, trn_labels, tst_data, tst_labels = load_cifar()\n",
    "    trn_data, tst_data = list(map(image_prep, trn_data)), list(map(image_prep, tst_data))\n",
    "    X_train, X_val, y_train, y_val = train_test_split(trn_data, trn_labels,test_size = 0.20)\n",
    "#     scaling = MinMaxScaler(feature_range=(-1,1)).fit(X_train)\n",
    "#     X_train = scaling.transform(X_train)\n",
    "#     X_val = scaling.transform(X_val)\n",
    "    \n",
    "    dims=[1,2,4,8,16,32,64,128,256]\n",
    "    for dim in dims:\n",
    "        print(dim)\n",
    "        reduced_model, X_reduced = reduce_dim(method='lda',dim=dim,train_X = X_train,train_y = y_train)\n",
    "        classifer_model = classify(X_reduced, y_train, method='Kernel SVM')\n",
    "        test_X_reduced = reduced_model.transform(X_val)\n",
    "        f1, acc = test(classifer_model=classifer_model,test_X = test_X_reduced, test_y = y_val)\n",
    "        svm_PCA_acc.append(acc)\n",
    "        svm_PCA_f1.append(f1)\n",
    "    \n",
    "    ''' perform dimesioality reduction/feature extraction and classify the features into one of 10 classses\n",
    "        print accuracy and f1-score.\n",
    "        '''\n",
    "#     print('Val - F1 score: {}\\n Accuracy: {}'.format(f_score, accuracy_))\n"
   ]
  },
  {
   "cell_type": "code",
   "execution_count": 9,
   "metadata": {},
   "outputs": [
    {
     "name": "stderr",
     "output_type": "stream",
     "text": [
      "100%|██████████| 1/1 [00:00<00:00, 17.38it/s]\n"
     ]
    },
    {
     "name": "stdout",
     "output_type": "stream",
     "text": [
      "1\n",
      "0.1615\n",
      "0.1615\n",
      "2\n",
      "0.187\n",
      "0.187\n",
      "4\n",
      "0.2185\n",
      "0.2185\n",
      "8\n",
      "0.2325\n",
      "0.2325\n",
      "16\n",
      "0.2255\n",
      "0.2255\n",
      "32\n",
      "0.2255\n",
      "0.2255\n",
      "64\n",
      "0.2255\n",
      "0.2255\n",
      "128\n",
      "0.2255\n",
      "0.2255\n",
      "256\n",
      "0.2255\n",
      "0.2255\n"
     ]
    }
   ],
   "source": [
    "if __name__ == '__main__':\n",
    "    main1()"
   ]
  },
  {
   "cell_type": "code",
   "execution_count": 10,
   "metadata": {},
   "outputs": [
    {
     "data": {
      "image/png": "[encoded data removed]",
      "text/plain": [
       "<Figure size 432x288 with 1 Axes>"
      ]
     },
     "metadata": {
      "needs_background": "light"
     },
     "output_type": "display_data"
    }
   ],
   "source": [
    "dims=[1,2,4,8,16,32,64,128,256]\n",
    "for i in range(1,len(svm_PCA_acc)):\n",
    "#     print(i)\n",
    "    svm_PCA_f1[i] = round(svm_PCA_f1[i], 3)\n",
    "#     print(i)\n",
    "fig = plt.figure()\n",
    "ax = fig.add_subplot(111)\n",
    "plt.plot(dims,svm_PCA_acc,'r')\n",
    "plt.xlabel('Dimensions Used')\n",
    "plt.ylabel('Accuracy')\n",
    "plt.title('Accuracy vs Dimensions(LDA) for Kernel SVM')\n",
    "for xy in zip(dims, svm_PCA_acc):\n",
    "    ax.annotate('(%s, %s)' % xy, xy=xy, textcoords='data')\n",
    "plt.savefig('finalkernelsvm_LDA_accuracy_1.svg',format='svg')"
   ]
  },
  {
   "cell_type": "code",
   "execution_count": 11,
   "metadata": {},
   "outputs": [
    {
     "name": "stdout",
     "output_type": "stream",
     "text": [
      "[1, 2, 4, 8, 16, 32, 64, 128, 256]\n"
     ]
    }
   ],
   "source": [
    "print(dims)\n",
    "data = {'Dimensions' : dims,\n",
    "        'Accuracy':svm_PCA_acc,\n",
    "#         'Score':svm_PCA_f1\n",
    "       }\n",
    "p = pd.DataFrame(data)"
   ]
  },
  {
   "cell_type": "code",
   "execution_count": 13,
   "metadata": {},
   "outputs": [
    {
     "data": {
      "text/html": [
       "<div>\n",
       "<style scoped>\n",
       "    .dataframe tbody tr th:only-of-type {\n",
       "        vertical-align: middle;\n",
       "    }\n",
       "\n",
       "    .dataframe tbody tr th {\n",
       "        vertical-align: top;\n",
       "    }\n",
       "\n",
       "    .dataframe thead th {\n",
       "        text-align: right;\n",
       "    }\n",
       "</style>\n",
       "<table border=\"1\" class=\"dataframe\">\n",
       "  <thead>\n",
       "    <tr style=\"text-align: right;\">\n",
       "      <th></th>\n",
       "      <th>Dimensions</th>\n",
       "      <th>Accuracy</th>\n",
       "    </tr>\n",
       "  </thead>\n",
       "  <tbody>\n",
       "    <tr>\n",
       "      <th>1</th>\n",
       "      <td>1</td>\n",
       "      <td>0.1615</td>\n",
       "    </tr>\n",
       "    <tr>\n",
       "      <th>2</th>\n",
       "      <td>2</td>\n",
       "      <td>0.1870</td>\n",
       "    </tr>\n",
       "    <tr>\n",
       "      <th>3</th>\n",
       "      <td>4</td>\n",
       "      <td>0.2185</td>\n",
       "    </tr>\n",
       "    <tr>\n",
       "      <th>4</th>\n",
       "      <td>8</td>\n",
       "      <td>0.2325</td>\n",
       "    </tr>\n",
       "    <tr>\n",
       "      <th>5</th>\n",
       "      <td>16</td>\n",
       "      <td>0.2255</td>\n",
       "    </tr>\n",
       "    <tr>\n",
       "      <th>6</th>\n",
       "      <td>32</td>\n",
       "      <td>0.2255</td>\n",
       "    </tr>\n",
       "    <tr>\n",
       "      <th>7</th>\n",
       "      <td>64</td>\n",
       "      <td>0.2255</td>\n",
       "    </tr>\n",
       "    <tr>\n",
       "      <th>8</th>\n",
       "      <td>128</td>\n",
       "      <td>0.2255</td>\n",
       "    </tr>\n",
       "    <tr>\n",
       "      <th>9</th>\n",
       "      <td>256</td>\n",
       "      <td>0.2255</td>\n",
       "    </tr>\n",
       "  </tbody>\n",
       "</table>\n",
       "</div>"
      ],
      "text/plain": [
       "   Dimensions  Accuracy\n",
       "1           1    0.1615\n",
       "2           2    0.1870\n",
       "3           4    0.2185\n",
       "4           8    0.2325\n",
       "5          16    0.2255\n",
       "6          32    0.2255\n",
       "7          64    0.2255\n",
       "8         128    0.2255\n",
       "9         256    0.2255"
      ]
     },
     "execution_count": 13,
     "metadata": {},
     "output_type": "execute_result"
    }
   ],
   "source": [
    "columnsTitles=[\"Dimensions\",\"Accuracy\"]\n",
    "p = p.reindex(columns=columnsTitles)\n",
    "p.index = range(1,10)\n",
    "# print(p)\n",
    "# print(svm_PCA_f1)\n",
    "p"
   ]
  },
  {
   "cell_type": "code",
   "execution_count": 14,
   "metadata": {},
   "outputs": [],
   "source": [
    "def sethyperparam(X, y, **kwargs):\n",
    "     if kwargs['method'] == 'Kernel SVM':\n",
    "            C = kwargs['C']\n",
    "            gamma = kwargs['gamma']\n",
    "            clf = svm.SVC(C = C, gamma=gamma,kernel='rbf')\n",
    "            clf = clf.fit(X, y)\n",
    "            return clf"
   ]
  },
  {
   "cell_type": "code",
   "execution_count": 15,
   "metadata": {},
   "outputs": [
    {
     "name": "stderr",
     "output_type": "stream",
     "text": [
      "100%|██████████| 1/1 [00:00<00:00, 30.48it/s]\n"
     ]
    }
   ],
   "source": [
    "trn_data, trn_labels, tst_data, tst_labels = load_cifar()\n",
    "trn_data, tst_data = list(map(image_prep, trn_data)), list(map(image_prep, tst_data))\n",
    "X_train, X_val, y_train, y_val = train_test_split(trn_data, trn_labels,test_size = 0.20)\n",
    " \n",
    "reduced_model, X_reduced = reduce_dim(method='lda',dim=8,train_X = X_train,train_y = y_train)\n",
    "test_X_reduced = reduced_model.transform(X_val)"
   ]
  },
  {
   "cell_type": "code",
   "execution_count": 18,
   "metadata": {},
   "outputs": [],
   "source": [
    "C_range = [0.5, 1, 5, 10]\n",
    "gamma_range = [0.0005, 0.001, 0.01, 0.1, 0.5]\n",
    "svm_PCA_acc1 = []\n",
    "svm_PCA_f11 = []\n",
    "def main2():\n",
    "    \n",
    "    for C in C_range:\n",
    "        for gamma in gamma_range:\n",
    "            print(C, gamma)\n",
    "            classifer_model = sethyperparam(X_reduced, y_train, method='Kernel SVM', gamma=gamma, C=C)\n",
    "            testf1, testacc = test(classifer_model=classifer_model,test_X = test_X_reduced, test_y = y_val)\n",
    "            trainf1, trainacc = test(classifer_model=classifer_model,test_X = X_reduced, test_y = y_train)\n",
    "            svm_PCA_acc1.append(testacc)\n",
    "            svm_PCA_f11.append(trainacc)"
   ]
  },
  {
   "cell_type": "code",
   "execution_count": 19,
   "metadata": {},
   "outputs": [
    {
     "name": "stdout",
     "output_type": "stream",
     "text": [
      "0.5 0.0005\n",
      "0.239\n",
      "0.239\n",
      "0.823\n",
      "0.823\n",
      "0.5 0.001\n",
      "0.23750000000000002\n",
      "0.2375\n",
      "0.82075\n",
      "0.82075\n",
      "0.5 0.01\n",
      "0.2365\n",
      "0.2365\n",
      "0.8245\n",
      "0.8245\n",
      "0.5 0.1\n",
      "0.239\n",
      "0.239\n",
      "0.836875\n",
      "0.836875\n",
      "0.5 0.5\n",
      "0.2005\n",
      "0.2005\n",
      "0.895875\n",
      "0.895875\n",
      "1 0.0005\n",
      "0.23750000000000002\n",
      "0.2375\n",
      "0.820625\n",
      "0.820625\n",
      "1 0.001\n",
      "0.239\n",
      "0.239\n",
      "0.8216250000000002\n",
      "0.821625\n",
      "1 0.01\n",
      "0.23750000000000002\n",
      "0.2375\n",
      "0.825\n",
      "0.825\n",
      "1 0.1\n",
      "0.2345\n",
      "0.2345\n",
      "0.842625\n",
      "0.842625\n",
      "1 0.5\n",
      "0.228\n",
      "0.228\n",
      "0.9265\n",
      "0.9265\n",
      "5 0.0005\n",
      "0.2335\n",
      "0.2335\n",
      "0.8226249999999999\n",
      "0.822625\n",
      "5 0.001\n",
      "0.236\n",
      "0.236\n",
      "0.82425\n",
      "0.82425\n",
      "5 0.01\n",
      "0.23750000000000002\n",
      "0.2375\n",
      "0.83025\n",
      "0.83025\n",
      "5 0.1\n",
      "0.2355\n",
      "0.2355\n",
      "0.8675\n",
      "0.8675\n",
      "5 0.5\n",
      "0.212\n",
      "0.212\n",
      "0.99175\n",
      "0.99175\n",
      "10 0.0005\n",
      "0.235\n",
      "0.235\n",
      "0.82425\n",
      "0.82425\n",
      "10 0.001\n",
      "0.2335\n",
      "0.2335\n",
      "0.824\n",
      "0.824\n",
      "10 0.01\n",
      "0.242\n",
      "0.242\n",
      "0.8325\n",
      "0.8325\n",
      "10 0.1\n",
      "0.234\n",
      "0.234\n",
      "0.886875\n",
      "0.886875\n",
      "10 0.5\n",
      "0.2135\n",
      "0.2135\n",
      "0.998\n",
      "0.998\n"
     ]
    }
   ],
   "source": [
    "main2()"
   ]
  },
  {
   "cell_type": "code",
   "execution_count": 22,
   "metadata": {},
   "outputs": [],
   "source": [
    "temp_C = []\n",
    "for i in range(len(C_range)):\n",
    "    for j in range (len(gamma_range)):\n",
    "        temp_C.append(C_range[i])\n",
    "\n",
    "temp_gamma = []\n",
    "for i in range(len(C_range)):\n",
    "    for j in range (len(gamma_range)):\n",
    "        temp_gamma.append(gamma_range[j])  "
   ]
  },
  {
   "cell_type": "code",
   "execution_count": 23,
   "metadata": {},
   "outputs": [
    {
     "name": "stdout",
     "output_type": "stream",
     "text": [
      "[0.5, 0.5, 0.5, 0.5, 0.5, 1, 1, 1, 1, 1, 5, 5, 5, 5, 5, 10, 10, 10, 10, 10]\n",
      "[0.0005, 0.001, 0.01, 0.1, 0.5, 0.0005, 0.001, 0.01, 0.1, 0.5, 0.0005, 0.001, 0.01, 0.1, 0.5, 0.0005, 0.001, 0.01, 0.1, 0.5]\n",
      "[0.239, 0.2375, 0.2365, 0.239, 0.2005, 0.2375, 0.239, 0.2375, 0.2345, 0.228, 0.2335, 0.236, 0.2375, 0.2355, 0.212, 0.235, 0.2335, 0.242, 0.234, 0.2135]\n",
      "[0.823, 0.82075, 0.8245, 0.836875, 0.895875, 0.820625, 0.821625, 0.825, 0.842625, 0.9265, 0.822625, 0.82425, 0.83025, 0.8675, 0.99175, 0.82425, 0.824, 0.8325, 0.886875, 0.998]\n"
     ]
    }
   ],
   "source": [
    "print(temp_C)\n",
    "print(temp_gamma)\n",
    "print(svm_PCA_acc1)\n",
    "print(svm_PCA_f11)\n"
   ]
  },
  {
   "cell_type": "code",
   "execution_count": 24,
   "metadata": {},
   "outputs": [
    {
     "data": {
      "text/html": [
       "<div>\n",
       "<style scoped>\n",
       "    .dataframe tbody tr th:only-of-type {\n",
       "        vertical-align: middle;\n",
       "    }\n",
       "\n",
       "    .dataframe tbody tr th {\n",
       "        vertical-align: top;\n",
       "    }\n",
       "\n",
       "    .dataframe thead th {\n",
       "        text-align: right;\n",
       "    }\n",
       "</style>\n",
       "<table border=\"1\" class=\"dataframe\">\n",
       "  <thead>\n",
       "    <tr style=\"text-align: right;\">\n",
       "      <th></th>\n",
       "      <th>C</th>\n",
       "      <th>Gamma</th>\n",
       "      <th>Test Accuracy</th>\n",
       "      <th>Train Accuracy</th>\n",
       "    </tr>\n",
       "  </thead>\n",
       "  <tbody>\n",
       "    <tr>\n",
       "      <th>1</th>\n",
       "      <td>0.5</td>\n",
       "      <td>0.0005</td>\n",
       "      <td>0.2390</td>\n",
       "      <td>0.823000</td>\n",
       "    </tr>\n",
       "    <tr>\n",
       "      <th>2</th>\n",
       "      <td>0.5</td>\n",
       "      <td>0.0010</td>\n",
       "      <td>0.2375</td>\n",
       "      <td>0.820750</td>\n",
       "    </tr>\n",
       "    <tr>\n",
       "      <th>3</th>\n",
       "      <td>0.5</td>\n",
       "      <td>0.0100</td>\n",
       "      <td>0.2365</td>\n",
       "      <td>0.824500</td>\n",
       "    </tr>\n",
       "    <tr>\n",
       "      <th>4</th>\n",
       "      <td>0.5</td>\n",
       "      <td>0.1000</td>\n",
       "      <td>0.2390</td>\n",
       "      <td>0.836875</td>\n",
       "    </tr>\n",
       "    <tr>\n",
       "      <th>5</th>\n",
       "      <td>0.5</td>\n",
       "      <td>0.5000</td>\n",
       "      <td>0.2005</td>\n",
       "      <td>0.895875</td>\n",
       "    </tr>\n",
       "    <tr>\n",
       "      <th>6</th>\n",
       "      <td>1.0</td>\n",
       "      <td>0.0005</td>\n",
       "      <td>0.2375</td>\n",
       "      <td>0.820625</td>\n",
       "    </tr>\n",
       "    <tr>\n",
       "      <th>7</th>\n",
       "      <td>1.0</td>\n",
       "      <td>0.0010</td>\n",
       "      <td>0.2390</td>\n",
       "      <td>0.821625</td>\n",
       "    </tr>\n",
       "    <tr>\n",
       "      <th>8</th>\n",
       "      <td>1.0</td>\n",
       "      <td>0.0100</td>\n",
       "      <td>0.2375</td>\n",
       "      <td>0.825000</td>\n",
       "    </tr>\n",
       "    <tr>\n",
       "      <th>9</th>\n",
       "      <td>1.0</td>\n",
       "      <td>0.1000</td>\n",
       "      <td>0.2345</td>\n",
       "      <td>0.842625</td>\n",
       "    </tr>\n",
       "    <tr>\n",
       "      <th>10</th>\n",
       "      <td>1.0</td>\n",
       "      <td>0.5000</td>\n",
       "      <td>0.2280</td>\n",
       "      <td>0.926500</td>\n",
       "    </tr>\n",
       "    <tr>\n",
       "      <th>11</th>\n",
       "      <td>5.0</td>\n",
       "      <td>0.0005</td>\n",
       "      <td>0.2335</td>\n",
       "      <td>0.822625</td>\n",
       "    </tr>\n",
       "    <tr>\n",
       "      <th>12</th>\n",
       "      <td>5.0</td>\n",
       "      <td>0.0010</td>\n",
       "      <td>0.2360</td>\n",
       "      <td>0.824250</td>\n",
       "    </tr>\n",
       "    <tr>\n",
       "      <th>13</th>\n",
       "      <td>5.0</td>\n",
       "      <td>0.0100</td>\n",
       "      <td>0.2375</td>\n",
       "      <td>0.830250</td>\n",
       "    </tr>\n",
       "    <tr>\n",
       "      <th>14</th>\n",
       "      <td>5.0</td>\n",
       "      <td>0.1000</td>\n",
       "      <td>0.2355</td>\n",
       "      <td>0.867500</td>\n",
       "    </tr>\n",
       "    <tr>\n",
       "      <th>15</th>\n",
       "      <td>5.0</td>\n",
       "      <td>0.5000</td>\n",
       "      <td>0.2120</td>\n",
       "      <td>0.991750</td>\n",
       "    </tr>\n",
       "    <tr>\n",
       "      <th>16</th>\n",
       "      <td>10.0</td>\n",
       "      <td>0.0005</td>\n",
       "      <td>0.2350</td>\n",
       "      <td>0.824250</td>\n",
       "    </tr>\n",
       "    <tr>\n",
       "      <th>17</th>\n",
       "      <td>10.0</td>\n",
       "      <td>0.0010</td>\n",
       "      <td>0.2335</td>\n",
       "      <td>0.824000</td>\n",
       "    </tr>\n",
       "    <tr>\n",
       "      <th>18</th>\n",
       "      <td>10.0</td>\n",
       "      <td>0.0100</td>\n",
       "      <td>0.2420</td>\n",
       "      <td>0.832500</td>\n",
       "    </tr>\n",
       "    <tr>\n",
       "      <th>19</th>\n",
       "      <td>10.0</td>\n",
       "      <td>0.1000</td>\n",
       "      <td>0.2340</td>\n",
       "      <td>0.886875</td>\n",
       "    </tr>\n",
       "    <tr>\n",
       "      <th>20</th>\n",
       "      <td>10.0</td>\n",
       "      <td>0.5000</td>\n",
       "      <td>0.2135</td>\n",
       "      <td>0.998000</td>\n",
       "    </tr>\n",
       "  </tbody>\n",
       "</table>\n",
       "</div>"
      ],
      "text/plain": [
       "       C   Gamma  Test Accuracy  Train Accuracy\n",
       "1    0.5  0.0005         0.2390        0.823000\n",
       "2    0.5  0.0010         0.2375        0.820750\n",
       "3    0.5  0.0100         0.2365        0.824500\n",
       "4    0.5  0.1000         0.2390        0.836875\n",
       "5    0.5  0.5000         0.2005        0.895875\n",
       "6    1.0  0.0005         0.2375        0.820625\n",
       "7    1.0  0.0010         0.2390        0.821625\n",
       "8    1.0  0.0100         0.2375        0.825000\n",
       "9    1.0  0.1000         0.2345        0.842625\n",
       "10   1.0  0.5000         0.2280        0.926500\n",
       "11   5.0  0.0005         0.2335        0.822625\n",
       "12   5.0  0.0010         0.2360        0.824250\n",
       "13   5.0  0.0100         0.2375        0.830250\n",
       "14   5.0  0.1000         0.2355        0.867500\n",
       "15   5.0  0.5000         0.2120        0.991750\n",
       "16  10.0  0.0005         0.2350        0.824250\n",
       "17  10.0  0.0010         0.2335        0.824000\n",
       "18  10.0  0.0100         0.2420        0.832500\n",
       "19  10.0  0.1000         0.2340        0.886875\n",
       "20  10.0  0.5000         0.2135        0.998000"
      ]
     },
     "execution_count": 24,
     "metadata": {},
     "output_type": "execute_result"
    }
   ],
   "source": [
    "data1 = {'C' : temp_C,\n",
    "         'Gamma' : temp_gamma,\n",
    "         'Test Accuracy' : svm_PCA_acc1,\n",
    "         'Train Accuracy' : svm_PCA_f11\n",
    "#         'Score':svm_PCA_f1\n",
    "       }\n",
    "p1 = pd.DataFrame(data1)\n",
    "columnsTitles=[\"C\",\"Gamma\", \"Test Accuracy\", \"Train Accuracy\"]\n",
    "p1 = p1.reindex(columns=columnsTitles)\n",
    "p1.index = range(1,21)\n",
    "p1"
   ]
  },
  {
   "cell_type": "code",
   "execution_count": 25,
   "metadata": {},
   "outputs": [
    {
     "name": "stdout",
     "output_type": "stream",
     "text": [
      "0.242\n",
      "0.242\n",
      "0.2374\n",
      "0.2374\n"
     ]
    },
    {
     "data": {
      "text/plain": [
       "(0.2374, 0.2374)"
      ]
     },
     "execution_count": 25,
     "metadata": {},
     "output_type": "execute_result"
    }
   ],
   "source": [
    "classifer_model = sethyperparam(X_reduced, y_train, method='Kernel SVM', gamma=0.01, C=10)\n",
    "testf1, testacc = test(classifer_model=classifer_model,test_X = test_X_reduced, test_y = y_val)\n",
    "reducedtestdata = reduced_model.transform(tst_data)\n",
    "test(classifer_model=classifer_model,test_X = reducedtestdata, test_y = tst_labels)"
   ]
  },
  {
   "cell_type": "code",
   "execution_count": null,
   "metadata": {},
   "outputs": [],
   "source": []
  }
 ],
 "metadata": {
  "kernelspec": {
   "display_name": "Python 3",
   "language": "python",
   "name": "python3"
  },
  "language_info": {
   "codemirror_mode": {
    "name": "ipython",
    "version": 3
   },
   "file_extension": ".py",
   "mimetype": "text/x-python",
   "name": "python",
   "nbconvert_exporter": "python",
   "pygments_lexer": "ipython3",
   "version": "3.5.2"
  }
 },
 "nbformat": 4,
 "nbformat_minor": 2
}
